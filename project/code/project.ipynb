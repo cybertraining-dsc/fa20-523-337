{
 "cells": [
  {
   "cell_type": "markdown",
   "metadata": {},
   "source": [
    "### Project Abstract ###"
   ]
  },
  {
   "cell_type": "markdown",
   "metadata": {},
   "source": [
    "**Situation** The 80/20 rule has proven true for many businesses–only a small percentage of customers produce most of the revenue. As such, marketing teams are challenged to make appropriate investments in promotional strategies. The objective of this project is to explore different machine learning techniques and identify an optimized model that can help the marketing team understand customer behavior and make informed decisions.\n",
    "\n",
    "**Task** The challenge is to analyze a Google Merchandise Store (also known as GStore, where Google swag is sold) customer dataset to predict revenue per customer. Hopefully this exploration will lead to actionable insights and help allocating marketing budgets for those companies who choose to use data analysis on top of GA data.\n",
    "\n",
    "**Action** This exploration is based on a Kaggle competition and there are two datasets available in Kaggle. One is the test dataset (test.csv) and the other one is the training dataset (train.csv) and together the datasets contain customer transaction information ranging from August 2016 to April 2018. The action plan for this project is to first conduct data exploration that includes but not limited to investigating the statistics of data, examining the target variable distribution and other data distributions visually, determining imputation strategy based on the nature of missing data, exploring different techniques to scale the data, identifying features that may not be needed - for example, columns with constant variance, exploring different encoding techniques to convert categorical data to numerical data and identifying features with high collinearity. The preprocessed data will then be trained using a linear regression model with basic parameter setting and K-Fold cross validation. Based on the outcome of this initial model further experimentation will be conducted to tune the hyper parameters including regularization and also add new derived features to improve the accuracy of the model. Apart from linear regression other machine learning techniques like ensemble methods will be explored and compared.\n",
    "\n",
    "**Result** The best performing model determined based on the RMSE value will be used in the inference process to predict the revenue per customer. The Kaggle competition requires to predict the natural log of sum of all transactions per customer"
   ]
  },
  {
   "cell_type": "markdown",
   "metadata": {},
   "source": [
    "### Datasets ###"
   ]
  },
  {
   "cell_type": "markdown",
   "metadata": {},
   "source": [
    "As mentioned in the earlier sections, the dataset used in this model exploration was downloaded from Kaggle [^1] and available in CSV file format. The training contains more than 872K observations and based on the size of the dataset it would be ideal to use mini-batch or gradient descent optimization techniques to identify the coefficients that best describe the model. The target variable as observed in the dataset is a continuous variable which implies that the use case is a regression problem. As mentioned earlier, there are several machine learning techniques that can be explored for this type of problem including regression and ensemble methods with different parameter settings. The sparsity of potential features in the datasets indicates that multiple experimentations will be required to determine the best performing model. Also based on initial review of the datasets, it also observed that some of the categorical features exhibit low to medium cardinality and if these features are going to be retained in the final dataset used for training then it is important to choose the right encoding technique.\n",
    "\n",
    "Train.csv User transactions from August 1st, 2016 to August 1st, 2017\n",
    "\n",
    "Test.csv User transactions from August 2nd, 2017 to April 30th, 2018 "
   ]
  },
  {
   "cell_type": "markdown",
   "metadata": {},
   "source": [
    "### Import Libraries ##"
   ]
  },
  {
   "cell_type": "markdown",
   "metadata": {
    "id": "k7tjjiIjctEq"
   },
   "source": [
    "Importing all the required Libraries required for this project"
   ]
  },
  {
   "cell_type": "code",
   "execution_count": 19,
   "metadata": {
    "id": "wy4fvX2yYUu8"
   },
   "outputs": [],
   "source": [
    "##Importing required libraries\n",
    "import os\n",
    "import time\n",
    "import gc\n",
    "import warnings\n",
    "warnings.filterwarnings(\"ignore\")\n",
    "# data manipulation\n",
    "import json\n",
    "from pandas.io.json import json_normalize\n",
    "import numpy as np\n",
    "import pandas as pd\n",
    "import pandas_profiling\n",
    "# plot\n",
    "import matplotlib.pyplot as plt\n",
    "import seaborn as sns\n",
    "from cloudmesh.common.StopWatch import StopWatch\n",
    "from cloudmesh.common.Benchmark import Benchmark\n",
    "import time\n",
    "color = sns.color_palette()"
   ]
  },
  {
   "cell_type": "markdown",
   "metadata": {
    "id": "QrTPZ3v8cyBo"
   },
   "source": [
    "Mounting Google Drive to Access the datasets"
   ]
  },
  {
   "cell_type": "code",
   "execution_count": 2,
   "metadata": {
    "colab": {
     "base_uri": "https://localhost:8080/"
    },
    "id": "Sj-Zzw1jZROU",
    "outputId": "88806712-775a-47e6-d062-dbd59e0afa54"
   },
   "outputs": [
    {
     "name": "stdout",
     "output_type": "stream",
     "text": [
      "Mounted at /content/drive\n"
     ]
    }
   ],
   "source": [
    "from google.colab import drive\n",
    "drive.mount('/content/drive')\n",
    "# Navigate to My Drive directory to store the dataset\n",
    "%cd /content/drive/My Drive/Colab Notebooks/NLP_GStore/ProjectFinal/"
   ]
  },
  {
   "cell_type": "markdown",
   "metadata": {
    "id": "615o6D_fnjqc"
   },
   "source": [
    "### Data Load Function ###\n",
    "\n",
    "Function to load the data from the folder.Loads the data and flattens the JSON Columns such as Device, GeoNetwork, Totals, TrafficCource etc"
   ]
  },
  {
   "cell_type": "code",
   "execution_count": 20,
   "metadata": {
    "colab": {
     "base_uri": "https://localhost:8080/"
    },
    "id": "Tk1Xz5ZzZmqM",
    "outputId": "90fb012b-5030-4037-e7be-ae3ada8cef84"
   },
   "outputs": [
    {
     "name": "stdout",
     "output_type": "stream",
     "text": [
      "CPU times: user 102 ms, sys: 9.21 ms, total: 111 ms\n",
      "Wall time: 112 ms\n"
     ]
    }
   ],
   "source": [
    "%%time\n",
    "Benchmark.Start()\n",
    "def load_dataframe(csv_path='train.csv', nrows=None):\n",
    "    JSON_COLUMNS = ['device', 'geoNetwork', 'totals', 'trafficSource']\n",
    "    \n",
    "    df = pd.read_csv(csv_path, \n",
    "                     converters={column: json.loads for column in JSON_COLUMNS}, \n",
    "                     dtype={'fullVisitorId': 'str'}, # Important!!\n",
    "                     nrows=nrows)\n",
    "    \n",
    "    for column in JSON_COLUMNS:\n",
    "        column_as_df = json_normalize(df[column])\n",
    "        column_as_df.columns = [f\"{column}.{subcolumn}\" for subcolumn in column_as_df.columns]\n",
    "        df = df.drop(column, axis=1).merge(column_as_df, right_index=True, left_index=True)\n",
    "    print(f\"Loaded {os.path.basename(csv_path)}. Shape: {df.shape}\")\n",
    "    return df\n",
    "Benchmark.Stop()\n",
    "\n",
    "gc.collect()"
   ]
  },
  {
   "cell_type": "code",
   "execution_count": 21,
   "metadata": {
    "colab": {
     "base_uri": "https://localhost:8080/"
    },
    "id": "uRNDPNL0lyEi",
    "outputId": "0d77cf07-f3f4-4689-a6cc-dc2d115e7fa9"
   },
   "outputs": [
    {
     "name": "stdout",
     "output_type": "stream",
     "text": [
      "Loaded train.csv. Shape: (903653, 55)\n",
      "Loaded test.csv. Shape: (804684, 53)\n"
     ]
    }
   ],
   "source": [
    "# Dataframe contains 903.6K Rows and 55 Cols in Training\n",
    "# Dataframe contains 804.7K Rows and 53 Cols in Testing\n",
    "traindf = load_dataframe('https://storage.googleapis.com/gstoretrain/train.csv')\n",
    "testdf = load_dataframe('https://storage.googleapis.com/gstoretrain/test.csv')"
   ]
  },
  {
   "cell_type": "code",
   "execution_count": 22,
   "metadata": {
    "colab": {
     "base_uri": "https://localhost:8080/"
    },
    "id": "o9E-8_TCeRtc",
    "outputId": "886a1655-1138-4c75-ca4a-0d04ca45dba3"
   },
   "outputs": [
    {
     "name": "stdout",
     "output_type": "stream",
     "text": [
      "\n",
      "+---------------------+------------------------------------------------------------------+\n",
      "| Attribute           | Value                                                            |\n",
      "|---------------------+------------------------------------------------------------------|\n",
      "| BUG_REPORT_URL      | \"https://bugs.launchpad.net/ubuntu/\"                             |\n",
      "| DISTRIB_CODENAME    | bionic                                                           |\n",
      "| DISTRIB_DESCRIPTION | \"Ubuntu 18.04.5 LTS\"                                             |\n",
      "| DISTRIB_ID          | Ubuntu                                                           |\n",
      "| DISTRIB_RELEASE     | 18.04                                                            |\n",
      "| HOME_URL            | \"https://www.ubuntu.com/\"                                        |\n",
      "| ID                  | ubuntu                                                           |\n",
      "| ID_LIKE             | debian                                                           |\n",
      "| NAME                | \"Ubuntu\"                                                         |\n",
      "| PRETTY_NAME         | \"Ubuntu 18.04.5 LTS\"                                             |\n",
      "| PRIVACY_POLICY_URL  | \"https://www.ubuntu.com/legal/terms-and-policies/privacy-policy\" |\n",
      "| SUPPORT_URL         | \"https://help.ubuntu.com/\"                                       |\n",
      "| UBUNTU_CODENAME     | bionic                                                           |\n",
      "| VERSION             | \"18.04.5 LTS (Bionic Beaver)\"                                    |\n",
      "| VERSION_CODENAME    | bionic                                                           |\n",
      "| VERSION_ID          | \"18.04\"                                                          |\n",
      "| cpu_count           | 4                                                                |\n",
      "| mem.active          | 7.1 GiB                                                          |\n",
      "| mem.available       | 18.1 GiB                                                         |\n",
      "| mem.free            | 12.3 GiB                                                         |\n",
      "| mem.inactive        | 5.7 GiB                                                          |\n",
      "| mem.percent         | 29.1 %                                                           |\n",
      "| mem.total           | 25.5 GiB                                                         |\n",
      "| mem.used            | 11.1 GiB                                                         |\n",
      "| platform.version    | #1 SMP Thu Jul 23 08:00:38 PDT 2020                              |\n",
      "| python              | 3.6.9 (default, Oct  8 2020, 12:12:24)                           |\n",
      "|                     | [GCC 8.4.0]                                                      |\n",
      "| python.pip          | 19.3.1                                                           |\n",
      "| python.version      | 3.6.9                                                            |\n",
      "| sys.platform        | linux                                                            |\n",
      "| uname.machine       | x86_64                                                           |\n",
      "| uname.node          | 0098bf7245f6                                                     |\n",
      "| uname.processor     | x86_64                                                           |\n",
      "| uname.release       | 4.19.112+                                                        |\n",
      "| uname.system        | Linux                                                            |\n",
      "| uname.version       | #1 SMP Thu Jul 23 08:00:38 PDT 2020                              |\n",
      "| user                | collab                                                           |\n",
      "+---------------------+------------------------------------------------------------------+\n",
      "\n",
      "+-----------------------+----------+--------+--------+---------------------+-------+--------------+--------+-------+-------------------------------------+\n",
      "| Name                  | Status   |   Time |    Sum | Start               | tag   | Node         | User   | OS    | Version                             |\n",
      "|-----------------------+----------+--------+--------+---------------------+-------+--------------+--------+-------+-------------------------------------|\n",
      "| a                     | ok       | 42.183 | 42.183 | 2020-11-17 23:05:56 |       | 0098bf7245f6 | collab | Linux | #1 SMP Thu Jul 23 08:00:38 PDT 2020 |\n",
      "| <timed exec>/<module> | ok       |  0.013 |  0.022 | 2020-11-17 23:12:35 |       | 0098bf7245f6 | collab | Linux | #1 SMP Thu Jul 23 08:00:38 PDT 2020 |\n",
      "+-----------------------+----------+--------+--------+---------------------+-------+--------------+--------+-------+-------------------------------------+\n",
      "\n",
      "# csv,timer,status,time,sum,start,tag,uname.node,user,uname.system,platform.version\n",
      "# csv,a,ok,42.183,42.183,2020-11-17 23:05:56,,0098bf7245f6,collab,Linux,#1 SMP Thu Jul 23 08:00:38 PDT 2020\n",
      "# csv,<timed exec>/<module>,ok,0.013,0.022,2020-11-17 23:12:35,,0098bf7245f6,collab,Linux,#1 SMP Thu Jul 23 08:00:38 PDT 2020\n",
      "\n"
     ]
    }
   ],
   "source": [
    "Benchmark.print()"
   ]
  },
  {
   "cell_type": "markdown",
   "metadata": {
    "id": "v4mC1D0Gcikd"
   },
   "source": [
    "### Preliminary Data Statistics ###"
   ]
  },
  {
   "cell_type": "markdown",
   "metadata": {
    "id": "fsm8HNIXnZlQ"
   },
   "source": [
    "Let's take a look at the dataset using the head() command"
   ]
  },
  {
   "cell_type": "code",
   "execution_count": null,
   "metadata": {
    "colab": {
     "base_uri": "https://localhost:8080/",
     "height": 309
    },
    "id": "TWQ3cWnRciXh",
    "outputId": "229c33a0-29f1-4dfb-9c69-7d1d2c2a32cc"
   },
   "outputs": [
    {
     "data": {
      "text/html": [
       "<div>\n",
       "<style scoped>\n",
       "    .dataframe tbody tr th:only-of-type {\n",
       "        vertical-align: middle;\n",
       "    }\n",
       "\n",
       "    .dataframe tbody tr th {\n",
       "        vertical-align: top;\n",
       "    }\n",
       "\n",
       "    .dataframe thead th {\n",
       "        text-align: right;\n",
       "    }\n",
       "</style>\n",
       "<table border=\"1\" class=\"dataframe\">\n",
       "  <thead>\n",
       "    <tr style=\"text-align: right;\">\n",
       "      <th></th>\n",
       "      <th>channelGrouping</th>\n",
       "      <th>date</th>\n",
       "      <th>fullVisitorId</th>\n",
       "      <th>sessionId</th>\n",
       "      <th>socialEngagementType</th>\n",
       "      <th>visitId</th>\n",
       "      <th>visitNumber</th>\n",
       "      <th>visitStartTime</th>\n",
       "      <th>device.browser</th>\n",
       "      <th>device.browserVersion</th>\n",
       "      <th>device.browserSize</th>\n",
       "      <th>device.operatingSystem</th>\n",
       "      <th>device.operatingSystemVersion</th>\n",
       "      <th>device.isMobile</th>\n",
       "      <th>device.mobileDeviceBranding</th>\n",
       "      <th>device.mobileDeviceModel</th>\n",
       "      <th>device.mobileInputSelector</th>\n",
       "      <th>device.mobileDeviceInfo</th>\n",
       "      <th>device.mobileDeviceMarketingName</th>\n",
       "      <th>device.flashVersion</th>\n",
       "      <th>device.language</th>\n",
       "      <th>device.screenColors</th>\n",
       "      <th>device.screenResolution</th>\n",
       "      <th>device.deviceCategory</th>\n",
       "      <th>geoNetwork.continent</th>\n",
       "      <th>geoNetwork.subContinent</th>\n",
       "      <th>geoNetwork.country</th>\n",
       "      <th>geoNetwork.region</th>\n",
       "      <th>geoNetwork.metro</th>\n",
       "      <th>geoNetwork.city</th>\n",
       "      <th>geoNetwork.cityId</th>\n",
       "      <th>geoNetwork.networkDomain</th>\n",
       "      <th>geoNetwork.latitude</th>\n",
       "      <th>geoNetwork.longitude</th>\n",
       "      <th>geoNetwork.networkLocation</th>\n",
       "      <th>totals.visits</th>\n",
       "      <th>totals.hits</th>\n",
       "      <th>totals.pageviews</th>\n",
       "      <th>totals.bounces</th>\n",
       "      <th>totals.newVisits</th>\n",
       "      <th>totals.transactionRevenue</th>\n",
       "      <th>trafficSource.campaign</th>\n",
       "      <th>trafficSource.source</th>\n",
       "      <th>trafficSource.medium</th>\n",
       "      <th>trafficSource.keyword</th>\n",
       "      <th>trafficSource.adwordsClickInfo.criteriaParameters</th>\n",
       "      <th>trafficSource.isTrueDirect</th>\n",
       "      <th>trafficSource.referralPath</th>\n",
       "      <th>trafficSource.adwordsClickInfo.page</th>\n",
       "      <th>trafficSource.adwordsClickInfo.slot</th>\n",
       "      <th>trafficSource.adwordsClickInfo.gclId</th>\n",
       "      <th>trafficSource.adwordsClickInfo.adNetworkType</th>\n",
       "      <th>trafficSource.adwordsClickInfo.isVideoAd</th>\n",
       "      <th>trafficSource.adContent</th>\n",
       "      <th>trafficSource.campaignCode</th>\n",
       "    </tr>\n",
       "  </thead>\n",
       "  <tbody>\n",
       "    <tr>\n",
       "      <th>0</th>\n",
       "      <td>Organic Search</td>\n",
       "      <td>20160902</td>\n",
       "      <td>1131660440785968503</td>\n",
       "      <td>1131660440785968503_1472830385</td>\n",
       "      <td>Not Socially Engaged</td>\n",
       "      <td>1472830385</td>\n",
       "      <td>1</td>\n",
       "      <td>1472830385</td>\n",
       "      <td>Chrome</td>\n",
       "      <td>not available in demo dataset</td>\n",
       "      <td>not available in demo dataset</td>\n",
       "      <td>Windows</td>\n",
       "      <td>not available in demo dataset</td>\n",
       "      <td>False</td>\n",
       "      <td>not available in demo dataset</td>\n",
       "      <td>not available in demo dataset</td>\n",
       "      <td>not available in demo dataset</td>\n",
       "      <td>not available in demo dataset</td>\n",
       "      <td>not available in demo dataset</td>\n",
       "      <td>not available in demo dataset</td>\n",
       "      <td>not available in demo dataset</td>\n",
       "      <td>not available in demo dataset</td>\n",
       "      <td>not available in demo dataset</td>\n",
       "      <td>desktop</td>\n",
       "      <td>Asia</td>\n",
       "      <td>Western Asia</td>\n",
       "      <td>Turkey</td>\n",
       "      <td>Izmir</td>\n",
       "      <td>(not set)</td>\n",
       "      <td>Izmir</td>\n",
       "      <td>not available in demo dataset</td>\n",
       "      <td>ttnet.com.tr</td>\n",
       "      <td>not available in demo dataset</td>\n",
       "      <td>not available in demo dataset</td>\n",
       "      <td>not available in demo dataset</td>\n",
       "      <td>1</td>\n",
       "      <td>1</td>\n",
       "      <td>1</td>\n",
       "      <td>1</td>\n",
       "      <td>1</td>\n",
       "      <td>NaN</td>\n",
       "      <td>(not set)</td>\n",
       "      <td>google</td>\n",
       "      <td>organic</td>\n",
       "      <td>(not provided)</td>\n",
       "      <td>not available in demo dataset</td>\n",
       "      <td>NaN</td>\n",
       "      <td>NaN</td>\n",
       "      <td>NaN</td>\n",
       "      <td>NaN</td>\n",
       "      <td>NaN</td>\n",
       "      <td>NaN</td>\n",
       "      <td>NaN</td>\n",
       "      <td>NaN</td>\n",
       "      <td>NaN</td>\n",
       "    </tr>\n",
       "    <tr>\n",
       "      <th>1</th>\n",
       "      <td>Organic Search</td>\n",
       "      <td>20160902</td>\n",
       "      <td>377306020877927890</td>\n",
       "      <td>377306020877927890_1472880147</td>\n",
       "      <td>Not Socially Engaged</td>\n",
       "      <td>1472880147</td>\n",
       "      <td>1</td>\n",
       "      <td>1472880147</td>\n",
       "      <td>Firefox</td>\n",
       "      <td>not available in demo dataset</td>\n",
       "      <td>not available in demo dataset</td>\n",
       "      <td>Macintosh</td>\n",
       "      <td>not available in demo dataset</td>\n",
       "      <td>False</td>\n",
       "      <td>not available in demo dataset</td>\n",
       "      <td>not available in demo dataset</td>\n",
       "      <td>not available in demo dataset</td>\n",
       "      <td>not available in demo dataset</td>\n",
       "      <td>not available in demo dataset</td>\n",
       "      <td>not available in demo dataset</td>\n",
       "      <td>not available in demo dataset</td>\n",
       "      <td>not available in demo dataset</td>\n",
       "      <td>not available in demo dataset</td>\n",
       "      <td>desktop</td>\n",
       "      <td>Oceania</td>\n",
       "      <td>Australasia</td>\n",
       "      <td>Australia</td>\n",
       "      <td>not available in demo dataset</td>\n",
       "      <td>not available in demo dataset</td>\n",
       "      <td>not available in demo dataset</td>\n",
       "      <td>not available in demo dataset</td>\n",
       "      <td>dodo.net.au</td>\n",
       "      <td>not available in demo dataset</td>\n",
       "      <td>not available in demo dataset</td>\n",
       "      <td>not available in demo dataset</td>\n",
       "      <td>1</td>\n",
       "      <td>1</td>\n",
       "      <td>1</td>\n",
       "      <td>1</td>\n",
       "      <td>1</td>\n",
       "      <td>NaN</td>\n",
       "      <td>(not set)</td>\n",
       "      <td>google</td>\n",
       "      <td>organic</td>\n",
       "      <td>(not provided)</td>\n",
       "      <td>not available in demo dataset</td>\n",
       "      <td>NaN</td>\n",
       "      <td>NaN</td>\n",
       "      <td>NaN</td>\n",
       "      <td>NaN</td>\n",
       "      <td>NaN</td>\n",
       "      <td>NaN</td>\n",
       "      <td>NaN</td>\n",
       "      <td>NaN</td>\n",
       "      <td>NaN</td>\n",
       "    </tr>\n",
       "    <tr>\n",
       "      <th>2</th>\n",
       "      <td>Organic Search</td>\n",
       "      <td>20160902</td>\n",
       "      <td>3895546263509774583</td>\n",
       "      <td>3895546263509774583_1472865386</td>\n",
       "      <td>Not Socially Engaged</td>\n",
       "      <td>1472865386</td>\n",
       "      <td>1</td>\n",
       "      <td>1472865386</td>\n",
       "      <td>Chrome</td>\n",
       "      <td>not available in demo dataset</td>\n",
       "      <td>not available in demo dataset</td>\n",
       "      <td>Windows</td>\n",
       "      <td>not available in demo dataset</td>\n",
       "      <td>False</td>\n",
       "      <td>not available in demo dataset</td>\n",
       "      <td>not available in demo dataset</td>\n",
       "      <td>not available in demo dataset</td>\n",
       "      <td>not available in demo dataset</td>\n",
       "      <td>not available in demo dataset</td>\n",
       "      <td>not available in demo dataset</td>\n",
       "      <td>not available in demo dataset</td>\n",
       "      <td>not available in demo dataset</td>\n",
       "      <td>not available in demo dataset</td>\n",
       "      <td>desktop</td>\n",
       "      <td>Europe</td>\n",
       "      <td>Southern Europe</td>\n",
       "      <td>Spain</td>\n",
       "      <td>Community of Madrid</td>\n",
       "      <td>(not set)</td>\n",
       "      <td>Madrid</td>\n",
       "      <td>not available in demo dataset</td>\n",
       "      <td>unknown.unknown</td>\n",
       "      <td>not available in demo dataset</td>\n",
       "      <td>not available in demo dataset</td>\n",
       "      <td>not available in demo dataset</td>\n",
       "      <td>1</td>\n",
       "      <td>1</td>\n",
       "      <td>1</td>\n",
       "      <td>1</td>\n",
       "      <td>1</td>\n",
       "      <td>NaN</td>\n",
       "      <td>(not set)</td>\n",
       "      <td>google</td>\n",
       "      <td>organic</td>\n",
       "      <td>(not provided)</td>\n",
       "      <td>not available in demo dataset</td>\n",
       "      <td>NaN</td>\n",
       "      <td>NaN</td>\n",
       "      <td>NaN</td>\n",
       "      <td>NaN</td>\n",
       "      <td>NaN</td>\n",
       "      <td>NaN</td>\n",
       "      <td>NaN</td>\n",
       "      <td>NaN</td>\n",
       "      <td>NaN</td>\n",
       "    </tr>\n",
       "    <tr>\n",
       "      <th>3</th>\n",
       "      <td>Organic Search</td>\n",
       "      <td>20160902</td>\n",
       "      <td>4763447161404445595</td>\n",
       "      <td>4763447161404445595_1472881213</td>\n",
       "      <td>Not Socially Engaged</td>\n",
       "      <td>1472881213</td>\n",
       "      <td>1</td>\n",
       "      <td>1472881213</td>\n",
       "      <td>UC Browser</td>\n",
       "      <td>not available in demo dataset</td>\n",
       "      <td>not available in demo dataset</td>\n",
       "      <td>Linux</td>\n",
       "      <td>not available in demo dataset</td>\n",
       "      <td>False</td>\n",
       "      <td>not available in demo dataset</td>\n",
       "      <td>not available in demo dataset</td>\n",
       "      <td>not available in demo dataset</td>\n",
       "      <td>not available in demo dataset</td>\n",
       "      <td>not available in demo dataset</td>\n",
       "      <td>not available in demo dataset</td>\n",
       "      <td>not available in demo dataset</td>\n",
       "      <td>not available in demo dataset</td>\n",
       "      <td>not available in demo dataset</td>\n",
       "      <td>desktop</td>\n",
       "      <td>Asia</td>\n",
       "      <td>Southeast Asia</td>\n",
       "      <td>Indonesia</td>\n",
       "      <td>not available in demo dataset</td>\n",
       "      <td>not available in demo dataset</td>\n",
       "      <td>not available in demo dataset</td>\n",
       "      <td>not available in demo dataset</td>\n",
       "      <td>unknown.unknown</td>\n",
       "      <td>not available in demo dataset</td>\n",
       "      <td>not available in demo dataset</td>\n",
       "      <td>not available in demo dataset</td>\n",
       "      <td>1</td>\n",
       "      <td>1</td>\n",
       "      <td>1</td>\n",
       "      <td>1</td>\n",
       "      <td>1</td>\n",
       "      <td>NaN</td>\n",
       "      <td>(not set)</td>\n",
       "      <td>google</td>\n",
       "      <td>organic</td>\n",
       "      <td>google + online</td>\n",
       "      <td>not available in demo dataset</td>\n",
       "      <td>NaN</td>\n",
       "      <td>NaN</td>\n",
       "      <td>NaN</td>\n",
       "      <td>NaN</td>\n",
       "      <td>NaN</td>\n",
       "      <td>NaN</td>\n",
       "      <td>NaN</td>\n",
       "      <td>NaN</td>\n",
       "      <td>NaN</td>\n",
       "    </tr>\n",
       "    <tr>\n",
       "      <th>4</th>\n",
       "      <td>Organic Search</td>\n",
       "      <td>20160902</td>\n",
       "      <td>27294437909732085</td>\n",
       "      <td>27294437909732085_1472822600</td>\n",
       "      <td>Not Socially Engaged</td>\n",
       "      <td>1472822600</td>\n",
       "      <td>2</td>\n",
       "      <td>1472822600</td>\n",
       "      <td>Chrome</td>\n",
       "      <td>not available in demo dataset</td>\n",
       "      <td>not available in demo dataset</td>\n",
       "      <td>Android</td>\n",
       "      <td>not available in demo dataset</td>\n",
       "      <td>True</td>\n",
       "      <td>not available in demo dataset</td>\n",
       "      <td>not available in demo dataset</td>\n",
       "      <td>not available in demo dataset</td>\n",
       "      <td>not available in demo dataset</td>\n",
       "      <td>not available in demo dataset</td>\n",
       "      <td>not available in demo dataset</td>\n",
       "      <td>not available in demo dataset</td>\n",
       "      <td>not available in demo dataset</td>\n",
       "      <td>not available in demo dataset</td>\n",
       "      <td>mobile</td>\n",
       "      <td>Europe</td>\n",
       "      <td>Northern Europe</td>\n",
       "      <td>United Kingdom</td>\n",
       "      <td>not available in demo dataset</td>\n",
       "      <td>not available in demo dataset</td>\n",
       "      <td>not available in demo dataset</td>\n",
       "      <td>not available in demo dataset</td>\n",
       "      <td>unknown.unknown</td>\n",
       "      <td>not available in demo dataset</td>\n",
       "      <td>not available in demo dataset</td>\n",
       "      <td>not available in demo dataset</td>\n",
       "      <td>1</td>\n",
       "      <td>1</td>\n",
       "      <td>1</td>\n",
       "      <td>1</td>\n",
       "      <td>NaN</td>\n",
       "      <td>NaN</td>\n",
       "      <td>(not set)</td>\n",
       "      <td>google</td>\n",
       "      <td>organic</td>\n",
       "      <td>(not provided)</td>\n",
       "      <td>not available in demo dataset</td>\n",
       "      <td>True</td>\n",
       "      <td>NaN</td>\n",
       "      <td>NaN</td>\n",
       "      <td>NaN</td>\n",
       "      <td>NaN</td>\n",
       "      <td>NaN</td>\n",
       "      <td>NaN</td>\n",
       "      <td>NaN</td>\n",
       "      <td>NaN</td>\n",
       "    </tr>\n",
       "  </tbody>\n",
       "</table>\n",
       "</div>"
      ],
      "text/plain": [
       "  channelGrouping      date  ... trafficSource.adContent trafficSource.campaignCode\n",
       "0  Organic Search  20160902  ...                     NaN                        NaN\n",
       "1  Organic Search  20160902  ...                     NaN                        NaN\n",
       "2  Organic Search  20160902  ...                     NaN                        NaN\n",
       "3  Organic Search  20160902  ...                     NaN                        NaN\n",
       "4  Organic Search  20160902  ...                     NaN                        NaN\n",
       "\n",
       "[5 rows x 55 columns]"
      ]
     },
     "execution_count": 12,
     "metadata": {
      "tags": []
     },
     "output_type": "execute_result"
    }
   ],
   "source": [
    "# Taking a peek at the data. Below command displays first 5 rows\n",
    "traindf.head()"
   ]
  },
  {
   "cell_type": "code",
   "execution_count": null,
   "metadata": {
    "colab": {
     "base_uri": "https://localhost:8080/"
    },
    "id": "u1mRMtJbmYJH",
    "outputId": "a9c90edc-0541-49b7-b34f-2f37688bdbe8"
   },
   "outputs": [
    {
     "name": "stdout",
     "output_type": "stream",
     "text": [
      "<class 'pandas.core.frame.DataFrame'>\n",
      "RangeIndex: 903653 entries, 0 to 903652\n",
      "Data columns (total 55 columns):\n",
      " #   Column                                             Non-Null Count   Dtype \n",
      "---  ------                                             --------------   ----- \n",
      " 0   channelGrouping                                    903653 non-null  object\n",
      " 1   date                                               903653 non-null  int64 \n",
      " 2   fullVisitorId                                      903653 non-null  object\n",
      " 3   sessionId                                          903653 non-null  object\n",
      " 4   socialEngagementType                               903653 non-null  object\n",
      " 5   visitId                                            903653 non-null  int64 \n",
      " 6   visitNumber                                        903653 non-null  int64 \n",
      " 7   visitStartTime                                     903653 non-null  int64 \n",
      " 8   device.browser                                     903653 non-null  object\n",
      " 9   device.browserVersion                              903653 non-null  object\n",
      " 10  device.browserSize                                 903653 non-null  object\n",
      " 11  device.operatingSystem                             903653 non-null  object\n",
      " 12  device.operatingSystemVersion                      903653 non-null  object\n",
      " 13  device.isMobile                                    903653 non-null  bool  \n",
      " 14  device.mobileDeviceBranding                        903653 non-null  object\n",
      " 15  device.mobileDeviceModel                           903653 non-null  object\n",
      " 16  device.mobileInputSelector                         903653 non-null  object\n",
      " 17  device.mobileDeviceInfo                            903653 non-null  object\n",
      " 18  device.mobileDeviceMarketingName                   903653 non-null  object\n",
      " 19  device.flashVersion                                903653 non-null  object\n",
      " 20  device.language                                    903653 non-null  object\n",
      " 21  device.screenColors                                903653 non-null  object\n",
      " 22  device.screenResolution                            903653 non-null  object\n",
      " 23  device.deviceCategory                              903653 non-null  object\n",
      " 24  geoNetwork.continent                               903653 non-null  object\n",
      " 25  geoNetwork.subContinent                            903653 non-null  object\n",
      " 26  geoNetwork.country                                 903653 non-null  object\n",
      " 27  geoNetwork.region                                  903653 non-null  object\n",
      " 28  geoNetwork.metro                                   903653 non-null  object\n",
      " 29  geoNetwork.city                                    903653 non-null  object\n",
      " 30  geoNetwork.cityId                                  903653 non-null  object\n",
      " 31  geoNetwork.networkDomain                           903653 non-null  object\n",
      " 32  geoNetwork.latitude                                903653 non-null  object\n",
      " 33  geoNetwork.longitude                               903653 non-null  object\n",
      " 34  geoNetwork.networkLocation                         903653 non-null  object\n",
      " 35  totals.visits                                      903653 non-null  object\n",
      " 36  totals.hits                                        903653 non-null  object\n",
      " 37  totals.pageviews                                   903553 non-null  object\n",
      " 38  totals.bounces                                     450630 non-null  object\n",
      " 39  totals.newVisits                                   703060 non-null  object\n",
      " 40  totals.transactionRevenue                          11515 non-null   object\n",
      " 41  trafficSource.campaign                             903653 non-null  object\n",
      " 42  trafficSource.source                               903653 non-null  object\n",
      " 43  trafficSource.medium                               903653 non-null  object\n",
      " 44  trafficSource.keyword                              400724 non-null  object\n",
      " 45  trafficSource.adwordsClickInfo.criteriaParameters  903653 non-null  object\n",
      " 46  trafficSource.isTrueDirect                         274005 non-null  object\n",
      " 47  trafficSource.referralPath                         330941 non-null  object\n",
      " 48  trafficSource.adwordsClickInfo.page                21460 non-null   object\n",
      " 49  trafficSource.adwordsClickInfo.slot                21460 non-null   object\n",
      " 50  trafficSource.adwordsClickInfo.gclId               21561 non-null   object\n",
      " 51  trafficSource.adwordsClickInfo.adNetworkType       21460 non-null   object\n",
      " 52  trafficSource.adwordsClickInfo.isVideoAd           21460 non-null   object\n",
      " 53  trafficSource.adContent                            10946 non-null   object\n",
      " 54  trafficSource.campaignCode                         1 non-null       object\n",
      "dtypes: bool(1), int64(4), object(50)\n",
      "memory usage: 373.2+ MB\n"
     ]
    }
   ],
   "source": [
    "traindf.info()"
   ]
  },
  {
   "cell_type": "markdown",
   "metadata": {},
   "source": [
    "#### Sweetviz Exploration ####"
   ]
  },
  {
   "cell_type": "markdown",
   "metadata": {
    "id": "vtmoGpI1n5_e"
   },
   "source": [
    "Sweetviz is an automated Exploratoratory Data Analysis package that helps to quicky get the summaries, distributions and missing value information from the dataset "
   ]
  },
  {
   "cell_type": "code",
   "execution_count": null,
   "metadata": {
    "colab": {
     "base_uri": "https://localhost:8080/",
     "height": 85
    },
    "id": "8XI9WZgGr7op",
    "outputId": "87a83007-1b95-42eb-c91f-1d60a3a95744"
   },
   "outputs": [
    {
     "name": "stderr",
     "output_type": "stream",
     "text": [
      ":FEATURES DONE:                    |█████████████████████| [100%]   01:05  -> (00:00 left)\n",
      ":PAIRWISE DONE:                    |█████████████████████| [100%]   35:59  -> (00:00 left)\n"
     ]
    },
    {
     "name": "stdout",
     "output_type": "stream",
     "text": [
      "Creating Associations graph... DONE!\n",
      "Report SWEETVIZ_REPORT.html was generated! NOTEBOOK/COLAB USERS: no browser will pop up, the report is saved in your notebook/colab files.\n"
     ]
    }
   ],
   "source": [
    "import sweetviz as sv\n",
    "\n",
    "my_report = sv.analyze(traindf)\n",
    "my_report.show_html() # Default arguments will generate to \"SWEETVIZ_REPORT.html\"\n",
    "#Renamed this report to Initial_Analysis_Report.html\n",
    "#The report contains the basic exploratory data analysis with plot distributions for individual independent variables"
   ]
  },
  {
   "cell_type": "markdown",
   "metadata": {},
   "source": [
    "### Exploratory Data Analysis ###"
   ]
  },
  {
   "cell_type": "markdown",
   "metadata": {
    "id": "aJNymGBZ84oQ"
   },
   "source": [
    "#### Target Variable Distribution ####"
   ]
  },
  {
   "cell_type": "markdown",
   "metadata": {
    "id": "eaN6YiskoX0d"
   },
   "source": [
    "Perform basic analysis on the Target variable: totals.transactionRevenue"
   ]
  },
  {
   "cell_type": "code",
   "execution_count": 23,
   "metadata": {
    "colab": {
     "base_uri": "https://localhost:8080/"
    },
    "id": "LpV1jXsY85N8",
    "outputId": "86285e49-6e21-44d8-a287-3ecd469aebfb"
   },
   "outputs": [
    {
     "name": "stdout",
     "output_type": "stream",
     "text": [
      "The ratio of customers with transaction revenue is 0.0127427231470487\n"
     ]
    }
   ],
   "source": [
    "y = np.nan_to_num(np.array([float(i) for i in traindf['totals.transactionRevenue']]))\n",
    "print('The ratio of customers with transaction revenue is', str((y != 0).mean()))   "
   ]
  },
  {
   "cell_type": "code",
   "execution_count": 25,
   "metadata": {
    "colab": {
     "base_uri": "https://localhost:8080/",
     "height": 399
    },
    "id": "qZRfp8xLyXug",
    "outputId": "82d3e6c6-c26d-4de7-ef1d-c5aefa4669cb"
   },
   "outputs": [
    {
     "data": {
      "image/png": "[encoded data removed]",
      "text/plain": [
       "<Figure size 864x432 with 1 Axes>"
      ]
     },
     "metadata": {
      "needs_background": "light",
      "tags": []
     },
     "output_type": "display_data"
    }
   ],
   "source": [
    "%matplotlib inline\n",
    "plt.figure(figsize=[12, 6])\n",
    "sns.distplot(y[y!=0])\n",
    "plt.xlabel('transactionRevenue')\n",
    "plt.show()"
   ]
  },
  {
   "cell_type": "markdown",
   "metadata": {
    "id": "P79hrTmzo2YF"
   },
   "source": [
    "The Target Variable above has multiple peaks and doesn't follow a Normal Distribution. In the next step, I will perform the lognnormal transformation, so the Target Variable will have a Normal Distribution"
   ]
  },
  {
   "cell_type": "code",
   "execution_count": 26,
   "metadata": {
    "colab": {
     "base_uri": "https://localhost:8080/"
    },
    "id": "YvlBDZ2K9LRH",
    "outputId": "6ce1c054-7a90-4c80-8d32-41b110557c21"
   },
   "outputs": [
    {
     "name": "stdout",
     "output_type": "stream",
     "text": [
      "The ratio of customers with transaction revenue is 0.013996726255903731\n"
     ]
    }
   ],
   "source": [
    "traindf[\"totals.transactionRevenue\"] = traindf[\"totals.transactionRevenue\"].astype('float')\n",
    "target = np.log1p(traindf.groupby(\"fullVisitorId\")[\"totals.transactionRevenue\"].sum())\n",
    "print('The ratio of customers with transaction revenue is', str((target != 0).mean()))"
   ]
  },
  {
   "cell_type": "markdown",
   "metadata": {
    "id": "va4VP4gOpwBp"
   },
   "source": [
    "Visualizing the Target Variable after the transformation and appears that the target variable now has a normal distribution"
   ]
  },
  {
   "cell_type": "code",
   "execution_count": 27,
   "metadata": {
    "colab": {
     "base_uri": "https://localhost:8080/",
     "height": 388
    },
    "id": "QyzKkRED9Re8",
    "outputId": "e3805f4c-8d06-4345-ae95-339efc9736b8"
   },
   "outputs": [
    {
     "data": {
      "image/png": "[encoded data removed]",
      "text/plain": [
       "<Figure size 864x432 with 1 Axes>"
      ]
     },
     "metadata": {
      "needs_background": "light",
      "tags": []
     },
     "output_type": "display_data"
    }
   ],
   "source": [
    "plt.figure(figsize=[12, 6])\n",
    "sns.distplot(target[target!=0])\n",
    "plt.xlabel('Target')\n",
    "plt.show()"
   ]
  },
  {
   "cell_type": "markdown",
   "metadata": {
    "id": "RQEPKwvz9nZ8"
   },
   "source": [
    "#### Function to plot categorical data ####"
   ]
  },
  {
   "cell_type": "markdown",
   "metadata": {
    "id": "MQ8GkP89qIYy"
   },
   "source": [
    "Plot_Categorical Function will take column name as an input paramter, along with additional paramters such as Title, Size, and xlabel angle and produce results accordingly. "
   ]
  },
  {
   "cell_type": "code",
   "execution_count": 28,
   "metadata": {
    "id": "wyDvZnQ49kSw"
   },
   "outputs": [],
   "source": [
    "def plot_categorical(data, col, size=[8 ,4], xlabel_angle=0, title='', max_cat = None):\n",
    "    '''use this for ploting the count of categorical features'''\n",
    "    plotdata = data[col].value_counts() / len(data)\n",
    "    if max_cat != None:\n",
    "        plotdata = plotdata[max_cat[0]:max_cat[1]]\n",
    "    plt.figure(figsize = size)\n",
    "    sns.barplot(x = plotdata.index, y=plotdata.values)\n",
    "    plt.title(title)\n",
    "    if xlabel_angle!=0: \n",
    "        plt.xticks(rotation=xlabel_angle)\n",
    "    plt.show()"
   ]
  },
  {
   "cell_type": "markdown",
   "metadata": {
    "id": "9RW56xLSqi-H"
   },
   "source": [
    "#### Device Group distribution ####"
   ]
  },
  {
   "cell_type": "code",
   "execution_count": 29,
   "metadata": {
    "colab": {
     "base_uri": "https://localhost:8080/",
     "height": 310
    },
    "id": "N78TLLolqc8y",
    "outputId": "a37589dd-82d0-4d3d-fb9f-6d8457c5b9ae"
   },
   "outputs": [
    {
     "data": {
      "image/png": "[encoded data removed]",
      "text/plain": [
       "<Figure size 576x288 with 1 Axes>"
      ]
     },
     "metadata": {
      "needs_background": "light",
      "tags": []
     },
     "output_type": "display_data"
    }
   ],
   "source": [
    "plot_categorical(data=traindf, col='device.browser', size=[8 ,4], xlabel_angle=20, title='Device - Browser', max_cat=[0, 6])"
   ]
  },
  {
   "cell_type": "code",
   "execution_count": 30,
   "metadata": {
    "colab": {
     "base_uri": "https://localhost:8080/",
     "height": 281
    },
    "id": "MsJn3Oz39qc8",
    "outputId": "630f54b1-4681-40f0-96df-a63b8b3e96ce"
   },
   "outputs": [
    {
     "data": {
      "image/png": "[encoded data removed]",
      "text/plain": [
       "<Figure size 576x288 with 1 Axes>"
      ]
     },
     "metadata": {
      "needs_background": "light",
      "tags": []
     },
     "output_type": "display_data"
    }
   ],
   "source": [
    "plot_categorical(data=traindf, col='device.deviceCategory', size=[8 ,4], xlabel_angle=0, title='Device - Category')"
   ]
  },
  {
   "cell_type": "code",
   "execution_count": 31,
   "metadata": {
    "colab": {
     "base_uri": "https://localhost:8080/",
     "height": 308
    },
    "id": "_de2YAE39vgt",
    "outputId": "d8d96529-751e-4f5f-8c0c-edbeb3190b10"
   },
   "outputs": [
    {
     "data": {
      "image/png": "[encoded data removed]",
      "text/plain": [
       "<Figure size 576x288 with 1 Axes>"
      ]
     },
     "metadata": {
      "needs_background": "light",
      "tags": []
     },
     "output_type": "display_data"
    }
   ],
   "source": [
    "plot_categorical(data=traindf, col='device.operatingSystem', size=[8 ,4], xlabel_angle=30, \n",
    "                 title='Device - Operating System', max_cat = [0, 7])"
   ]
  },
  {
   "cell_type": "markdown",
   "metadata": {
    "id": "pWxEMdd2qtjf"
   },
   "source": [
    "From the above plots it looks like most of the customers are suing Windows Desktop, Chrome to visit the Online store. Second popular combination is Mac desktop with either Chrome or Safari"
   ]
  },
  {
   "cell_type": "markdown",
   "metadata": {
    "id": "IsFPJfXorEd1"
   },
   "source": [
    "The below plots are specific to the Geography of Users who are accessing the Online Store. From the below plots, its clear that majority of the users are in US and Califonia cities heavily visit online stores"
   ]
  },
  {
   "cell_type": "markdown",
   "metadata": {
    "id": "rGWEP_EJ905k"
   },
   "source": [
    "#### Geo Network Group distribution ####"
   ]
  },
  {
   "cell_type": "code",
   "execution_count": 32,
   "metadata": {
    "colab": {
     "base_uri": "https://localhost:8080/",
     "height": 321
    },
    "id": "Arxm0hMA9xze",
    "outputId": "5ae44401-4920-490d-b7f2-a2eff9586d38"
   },
   "outputs": [
    {
     "data": {
      "image/png": "[encoded data removed]",
      "text/plain": [
       "<Figure size 864x288 with 1 Axes>"
      ]
     },
     "metadata": {
      "needs_background": "light",
      "tags": []
     },
     "output_type": "display_data"
    }
   ],
   "source": [
    "plot_categorical(data=traindf, col='geoNetwork.city', size=[12 ,4], xlabel_angle=30, \n",
    "                 title='GeoNetwork - City', max_cat = [1, 20])"
   ]
  },
  {
   "cell_type": "code",
   "execution_count": 33,
   "metadata": {
    "colab": {
     "base_uri": "https://localhost:8080/",
     "height": 320
    },
    "id": "P9nX6Q_i93mC",
    "outputId": "b2edbc7a-a912-4b67-9889-4f89f8ad6377"
   },
   "outputs": [
    {
     "data": {
      "image/png": "[encoded data removed]",
      "text/plain": [
       "<Figure size 864x288 with 1 Axes>"
      ]
     },
     "metadata": {
      "needs_background": "light",
      "tags": []
     },
     "output_type": "display_data"
    }
   ],
   "source": [
    "plot_categorical(data=traindf, col='geoNetwork.country', size=[12 ,4], xlabel_angle=30, \n",
    "                 title='GeoNetwork - Country', max_cat = [0, 20])"
   ]
  },
  {
   "cell_type": "code",
   "execution_count": 34,
   "metadata": {
    "colab": {
     "base_uri": "https://localhost:8080/",
     "height": 323
    },
    "id": "65Kh57ai99zZ",
    "outputId": "e3784ff8-2477-4a2a-97ee-8280e1574305"
   },
   "outputs": [
    {
     "data": {
      "image/png": "[encoded data removed]",
      "text/plain": [
       "<Figure size 864x288 with 1 Axes>"
      ]
     },
     "metadata": {
      "needs_background": "light",
      "tags": []
     },
     "output_type": "display_data"
    }
   ],
   "source": [
    "plot_categorical(data=traindf, col='geoNetwork.region', size=[12 ,4], xlabel_angle=30, \n",
    "                 title='GeoNetwork - Region', max_cat = [1, 20])"
   ]
  },
  {
   "cell_type": "code",
   "execution_count": 35,
   "metadata": {
    "colab": {
     "base_uri": "https://localhost:8080/",
     "height": 448
    },
    "id": "gobZZzhQ-Aom",
    "outputId": "ecb4d5b9-daec-4a9c-9bda-b79fbd2b22cb"
   },
   "outputs": [
    {
     "data": {
      "image/png": "[encoded data removed]",
      "text/plain": [
       "<Figure size 864x288 with 1 Axes>"
      ]
     },
     "metadata": {
      "needs_background": "light",
      "tags": []
     },
     "output_type": "display_data"
    }
   ],
   "source": [
    "plot_categorical(data=traindf, col='geoNetwork.metro', size=[12 ,4], xlabel_angle=90, \n",
    "                 title='GeoNetwork - metro', max_cat = [2, 20])"
   ]
  },
  {
   "cell_type": "code",
   "execution_count": 36,
   "metadata": {
    "colab": {
     "base_uri": "https://localhost:8080/",
     "height": 324
    },
    "id": "68yYAc96-EOC",
    "outputId": "c3b9cabc-85b7-403e-e579-eece553884ca"
   },
   "outputs": [
    {
     "data": {
      "image/png": "[encoded data removed]",
      "text/plain": [
       "<Figure size 576x288 with 1 Axes>"
      ]
     },
     "metadata": {
      "needs_background": "light",
      "tags": []
     },
     "output_type": "display_data"
    }
   ],
   "source": [
    "plot_categorical(data=traindf, col='geoNetwork.subContinent', size=[8 ,4], xlabel_angle=30, \n",
    "                 title='GeoNetwork - SubContinent', max_cat = [0, 10])"
   ]
  },
  {
   "cell_type": "code",
   "execution_count": 37,
   "metadata": {
    "colab": {
     "base_uri": "https://localhost:8080/",
     "height": 303
    },
    "id": "s4bQHrvH-HDd",
    "outputId": "461cb103-71e1-43e5-969e-b69498cb78cc"
   },
   "outputs": [
    {
     "data": {
      "image/png": "[encoded data removed]",
      "text/plain": [
       "<Figure size 576x288 with 1 Axes>"
      ]
     },
     "metadata": {
      "needs_background": "light",
      "tags": []
     },
     "output_type": "display_data"
    }
   ],
   "source": [
    "plot_categorical(data=traindf, col='geoNetwork.continent', size=[8 ,4], xlabel_angle=30, \n",
    "                 title='GeoNetwork - Continent')"
   ]
  },
  {
   "cell_type": "markdown",
   "metadata": {
    "id": "8p42CTnA-N9D"
   },
   "source": [
    "#### Totals Group Distribution ####"
   ]
  },
  {
   "cell_type": "code",
   "execution_count": 38,
   "metadata": {
    "colab": {
     "base_uri": "https://localhost:8080/",
     "height": 281
    },
    "id": "VgkWvbEd-PW1",
    "outputId": "e9491b0d-6c2e-4043-a1f7-1ca87dbd2665"
   },
   "outputs": [
    {
     "data": {
      "image/png": "[encoded data removed]",
      "text/plain": [
       "<Figure size 576x288 with 1 Axes>"
      ]
     },
     "metadata": {
      "needs_background": "light",
      "tags": []
     },
     "output_type": "display_data"
    }
   ],
   "source": [
    "traindf['totals.bounces'] = traindf['totals.bounces'].fillna('0')\n",
    "plot_categorical(data=traindf, col='totals.bounces', size=[8 ,4], xlabel_angle=0, title='Totals - Bounces')"
   ]
  },
  {
   "cell_type": "code",
   "execution_count": 39,
   "metadata": {
    "colab": {
     "base_uri": "https://localhost:8080/",
     "height": 281
    },
    "id": "RvMPjydL-SJP",
    "outputId": "eb5d3721-2c3f-4b03-e8a6-17d9fe8807ed"
   },
   "outputs": [
    {
     "data": {
      "image/png": "[encoded data removed]",
      "text/plain": [
       "<Figure size 576x288 with 1 Axes>"
      ]
     },
     "metadata": {
      "needs_background": "light",
      "tags": []
     },
     "output_type": "display_data"
    }
   ],
   "source": [
    "traindf['totals.newVisits'] = traindf['totals.newVisits'].fillna('0')\n",
    "plot_categorical(data=traindf, col='totals.newVisits', size=[8 ,4], xlabel_angle=0, title='Totals - NewVisits')"
   ]
  },
  {
   "cell_type": "code",
   "execution_count": 40,
   "metadata": {
    "colab": {
     "base_uri": "https://localhost:8080/",
     "height": 404
    },
    "id": "sKKUW9o7-bPf",
    "outputId": "4a6f484d-a1c9-4def-bc3e-33dca9399143"
   },
   "outputs": [
    {
     "data": {
      "image/png": "[encoded data removed]",
      "text/plain": [
       "<Figure size 864x432 with 1 Axes>"
      ]
     },
     "metadata": {
      "needs_background": "light",
      "tags": []
     },
     "output_type": "display_data"
    }
   ],
   "source": [
    "plt.figure(figsize=[12, 6])\n",
    "sns.distplot(traindf['totals.hits'].astype('float'), kde=True,bins=30)\n",
    "plt.xlabel('totals.hits')\n",
    "plt.title('Total - Hits')\n",
    "plt.show()"
   ]
  },
  {
   "cell_type": "code",
   "execution_count": null,
   "metadata": {
    "colab": {
     "base_uri": "https://localhost:8080/",
     "height": 404
    },
    "id": "8x_k-MiyGHKr",
    "outputId": "45179336-b84e-4ff6-d65b-d7e23183c283"
   },
   "outputs": [
    {
     "data": {
      "image/png": "[encoded data removed]",
      "text/plain": [
       "<Figure size 864x432 with 1 Axes>"
      ]
     },
     "metadata": {
      "needs_background": "light",
      "tags": []
     },
     "output_type": "display_data"
    }
   ],
   "source": [
    "plt.figure(figsize=[12, 6])\n",
    "sns.distplot(traindf['totals.pageviews'].astype('float').fillna(0))\n",
    "plt.xlabel('totals.pageviews')\n",
    "plt.title('Total - Pageviews')\n",
    "plt.show()"
   ]
  },
  {
   "cell_type": "markdown",
   "metadata": {},
   "source": [
    "#### Traffic Source Group distribution ####"
   ]
  },
  {
   "cell_type": "markdown",
   "metadata": {
    "id": "C99wKJ-f-nbE"
   },
   "source": [
    "From the below plots it can be noticed that, Google Merchandise Store and Google Online Store are the top sources for AdContent"
   ]
  },
  {
   "cell_type": "code",
   "execution_count": null,
   "metadata": {
    "colab": {
     "base_uri": "https://localhost:8080/",
     "height": 361
    },
    "id": "1hU8rfxe-hd2",
    "outputId": "79e4622e-0c00-4fb3-e6f4-aefba3757e90"
   },
   "outputs": [
    {
     "data": {
      "image/png": "[encoded data removed]",
      "text/plain": [
       "<Figure size 720x288 with 1 Axes>"
      ]
     },
     "metadata": {
      "needs_background": "light",
      "tags": []
     },
     "output_type": "display_data"
    }
   ],
   "source": [
    "plot_categorical(data=traindf, col='trafficSource.adContent', size=[10 ,4], xlabel_angle=30, \n",
    "                 title='TrafficSource - AdContent', max_cat = [0, 10])"
   ]
  },
  {
   "cell_type": "code",
   "execution_count": 41,
   "metadata": {
    "colab": {
     "base_uri": "https://localhost:8080/",
     "height": 301
    },
    "id": "-Aw81YPh-sc6",
    "outputId": "a6600a06-620c-4f10-d35a-49e6d2f2c9aa"
   },
   "outputs": [
    {
     "data": {
      "image/png": "[encoded data removed]",
      "text/plain": [
       "<Figure size 720x288 with 1 Axes>"
      ]
     },
     "metadata": {
      "needs_background": "light",
      "tags": []
     },
     "output_type": "display_data"
    }
   ],
   "source": [
    "plot_categorical(data=traindf, col='trafficSource.medium', size=[10 ,4], xlabel_angle=30, \n",
    "                 title='TrafficSource - medium')"
   ]
  },
  {
   "cell_type": "markdown",
   "metadata": {},
   "source": [
    "#### Other Group distributions ####"
   ]
  },
  {
   "cell_type": "code",
   "execution_count": null,
   "metadata": {
    "colab": {
     "base_uri": "https://localhost:8080/",
     "height": 318
    },
    "id": "fy05s4Ox_AcF",
    "outputId": "0055c623-efb4-4e68-f6bd-01fbd6d9fc45"
   },
   "outputs": [
    {
     "data": {
      "image/png": "[encoded data removed]",
      "text/plain": [
       "<Figure size 720x288 with 1 Axes>"
      ]
     },
     "metadata": {
      "needs_background": "light",
      "tags": []
     },
     "output_type": "display_data"
    }
   ],
   "source": [
    "plot_categorical(data=traindf, col='channelGrouping', size=[10 ,4], xlabel_angle=30, \n",
    "                 title='Channel Grouping')"
   ]
  },
  {
   "cell_type": "code",
   "execution_count": null,
   "metadata": {
    "colab": {
     "base_uri": "https://localhost:8080/",
     "height": 404
    },
    "id": "SdRTw2H7GwkO",
    "outputId": "05055bac-8500-40a1-cec0-153ce80dbc0c"
   },
   "outputs": [
    {
     "data": {
      "image/png": "[encoded data removed]",
      "text/plain": [
       "<Figure size 864x432 with 1 Axes>"
      ]
     },
     "metadata": {
      "needs_background": "light",
      "tags": []
     },
     "output_type": "display_data"
    }
   ],
   "source": [
    "a = traindf.groupby(\"fullVisitorId\")[\"visitNumber\"].max()\n",
    "plt.figure(figsize=[12, 6])\n",
    "sns.distplot(a)\n",
    "plt.xlabel('VisitNumber')\n",
    "plt.title('Visit Number')\n",
    "plt.show()"
   ]
  },
  {
   "cell_type": "code",
   "execution_count": null,
   "metadata": {
    "colab": {
     "base_uri": "https://localhost:8080/",
     "height": 404
    },
    "id": "ZIV5hgJcG0oM",
    "outputId": "15cfb179-111b-4b97-ce28-e27af136aaf5"
   },
   "outputs": [
    {
     "data": {
      "image/png": "[encoded data removed]",
      "text/plain": [
       "<Figure size 864x432 with 1 Axes>"
      ]
     },
     "metadata": {
      "needs_background": "light",
      "tags": []
     },
     "output_type": "display_data"
    }
   ],
   "source": [
    "plt.figure(figsize=[12, 6])\n",
    "sns.distplot(traindf['date'])\n",
    "plt.xlabel('Date')\n",
    "plt.title('Date')\n",
    "plt.show()"
   ]
  },
  {
   "cell_type": "markdown",
   "metadata": {
    "id": "sWWJEZ_kKSOl"
   },
   "source": [
    "### Data Pre-Processing and Feature Engineering ###"
   ]
  },
  {
   "cell_type": "markdown",
   "metadata": {},
   "source": [
    "#### Helper Classes for Pre-processing and Feature Engineering ####"
   ]
  },
  {
   "cell_type": "markdown",
   "metadata": {
    "id": "DnyelA0dKMmS"
   },
   "source": [
    "We created the DataFrameSelector class to create a custom transformer to handle numerical and categorical columns to perform fit and transform operations and it helps to make our code scalable and helps in building overall a better pipeline "
   ]
  },
  {
   "cell_type": "code",
   "execution_count": 42,
   "metadata": {
    "id": "ozIYCwrEKMEm"
   },
   "outputs": [],
   "source": [
    "from sklearn.base import BaseEstimator, TransformerMixin\n",
    "\n",
    "class DataFrameSelector(BaseEstimator, TransformerMixin):\n",
    "    def __init__(self, attribute_names):\n",
    "        self.attribute_names = attribute_names\n",
    "    def fit(self, X, y=None):\n",
    "        return self\n",
    "    def transform(self, X):\n",
    "        return X[self.attribute_names].values"
   ]
  },
  {
   "cell_type": "markdown",
   "metadata": {
    "id": "x4VAm7x_t0wS"
   },
   "source": [
    "The CategoricalEncoder class we created below will perform the Label Encoding operations and by creating a class, we are isolating the logic and we can utilize in the overall data pipeline. "
   ]
  },
  {
   "cell_type": "code",
   "execution_count": 43,
   "metadata": {
    "id": "xefy8IwZK8M4"
   },
   "outputs": [],
   "source": [
    "from sklearn.base import BaseEstimator, TransformerMixin\n",
    "from sklearn.preprocessing import LabelEncoder\n",
    "\n",
    "class CategoricalEncoder(BaseEstimator, TransformerMixin):\n",
    "    def __init__(self, cat_cols):\n",
    "        self.cat_cols=cat_cols\n",
    "        return None\n",
    "    def fit(self, X, y=None):\n",
    "        self.X=X\n",
    "        return self\n",
    "    def transform(self, X):\n",
    "        X = pd.DataFrame(X)\n",
    "        X.columns = self.cat_cols\n",
    "        for col in self.cat_cols:\n",
    "            lbl = LabelEncoder()\n",
    "            lbl.fit(list(X[col].values.astype('str')))\n",
    "            X[col] = lbl.transform(list(X[col].values.astype('str')))\n",
    "        return X"
   ]
  },
  {
   "cell_type": "markdown",
   "metadata": {
    "id": "l-LC3yvQK-0x"
   },
   "source": [
    "**Feature Extraction Functions**\n",
    "\n",
    "We create several functions to help us with the feature extraction procedure. The functions are explained in the comments section on every function "
   ]
  },
  {
   "cell_type": "code",
   "execution_count": 44,
   "metadata": {
    "id": "dsKDeP6cLDbV"
   },
   "outputs": [],
   "source": [
    "def process_date_time(data_df):\n",
    "    #Extract date related values such as month, year, day from the \"Date\" variables\n",
    "    print(\"process date time ...\")\n",
    "    data_df['date'] = data_df['date'].astype(str)\n",
    "    data_df[\"date\"] = data_df[\"date\"].apply(lambda x : x[:4] + \"-\" + x[4:6] + \"-\" + x[6:])\n",
    "    data_df[\"date\"] = pd.to_datetime(data_df[\"date\"])   \n",
    "    data_df[\"year\"] = data_df['date'].dt.year\n",
    "    data_df[\"month\"] = data_df['date'].dt.month\n",
    "    data_df[\"day\"] = data_df['date'].dt.day\n",
    "    data_df[\"weekday\"] = data_df['date'].dt.weekday\n",
    "    data_df['weekofyear'] = data_df['date'].dt.weekofyear\n",
    "    data_df['month_unique_user_count'] = data_df.groupby('month')['fullVisitorId'].transform('nunique')\n",
    "    data_df['day_unique_user_count'] = data_df.groupby('day')['fullVisitorId'].transform('nunique')\n",
    "    data_df['weekday_unique_user_count'] = data_df.groupby('weekday')['fullVisitorId'].transform('nunique')\n",
    "    return data_df\n",
    "\n",
    "def process_format(data_df):\n",
    "    #Convert the below features to FLoat and handle the missing values\n",
    "    print(\"process format ...\")\n",
    "    for col in ['visitNumber', 'totals_hits', 'totals_pageviews']:\n",
    "        data_df[col] = data_df[col].astype(float)\n",
    "    data_df['trafficSource_adwordsClickInfo_isVideoAd'].fillna(True, inplace=True)\n",
    "    data_df['trafficSource_isTrueDirect'].fillna(False, inplace=True)\n",
    "    return data_df\n",
    "\n",
    "def process_device(data_df):\n",
    "    #Combine some of the features as they are more redundant. Instead of removing we are combining, so \n",
    "    #we can remove the redundancy at the sametime not lose any preditive power\n",
    "    print(\"process device ...\")\n",
    "    data_df['browser_category']        = data_df['device_browser'] + '_' + data_df['device_deviceCategory']\n",
    "    data_df['browser_operatingSystem'] = data_df['device_browser'] + '_' + data_df['device_operatingSystem']\n",
    "    data_df['source_country']          = data_df['trafficSource_source'] + '_' + data_df['geoNetwork_country']\n",
    "    return data_df\n",
    "    \n",
    "def process_totals(data_df):\n",
    "    #Feature Engineering: Create mean, sum, max, min, variance for Total Variable   \n",
    "    print(\"process totals ...\")\n",
    "    data_df['visitNumber']       = np.log1p(data_df['visitNumber'])\n",
    "    data_df['totals_hits']       = np.log1p(data_df['totals_hits'])\n",
    "    data_df['totals_pageviews']  = np.log1p(data_df['totals_pageviews'].fillna(0))\n",
    "    data_df['mean_hits_per_day'] = data_df.groupby(['day'])['totals_hits'].transform('mean')\n",
    "    data_df['sum_hits_per_day']  = data_df.groupby(['day'])['totals_hits'].transform('sum')\n",
    "    data_df['max_hits_per_day']  = data_df.groupby(['day'])['totals_hits'].transform('max')\n",
    "    data_df['min_hits_per_day']  = data_df.groupby(['day'])['totals_hits'].transform('min')\n",
    "    data_df['var_hits_per_day']  = data_df.groupby(['day'])['totals_hits'].transform('var')\n",
    "    return data_df\n",
    "\n",
    "def process_geo_network(data_df):\n",
    "    #Feature Engineering: Create mean, sum, max, min, variance for Total-hits and Totals_Pageviews Variable \n",
    "    print(\"process geo network ...\")\n",
    "    data_df['sum_pageviews_per_network_domain']   = data_df.groupby('geoNetwork_networkDomain')['totals_pageviews'].transform('sum')\n",
    "    data_df['count_pageviews_per_network_domain'] = data_df.groupby('geoNetwork_networkDomain')['totals_pageviews'].transform('count')\n",
    "    data_df['mean_pageviews_per_network_domain']  = data_df.groupby('geoNetwork_networkDomain')['totals_pageviews'].transform('mean')\n",
    "    data_df['sum_hits_per_network_domain']        = data_df.groupby('geoNetwork_networkDomain')['totals_hits'].transform('sum')\n",
    "    data_df['count_hits_per_network_domain']      = data_df.groupby('geoNetwork_networkDomain')['totals_hits'].transform('count')\n",
    "    data_df['mean_hits_per_network_domain']       = data_df.groupby('geoNetwork_networkDomain')['totals_hits'].transform('mean')\n",
    "    return data_df"
   ]
  },
  {
   "cell_type": "markdown",
   "metadata": {
    "id": "Lr4WgrdCLKXx"
   },
   "source": [
    "**Pre-processing and Feature Engineering Orchestrator Class**"
   ]
  },
  {
   "cell_type": "code",
   "execution_count": 45,
   "metadata": {
    "id": "Bc4oGPJOLQV8"
   },
   "outputs": [],
   "source": [
    "from sklearn.base import BaseEstimator, TransformerMixin\n",
    "from sklearn.preprocessing import LabelEncoder\n",
    "class AttributesPreprocessor(BaseEstimator, TransformerMixin):\n",
    "    def __init__(self): # no *args or **kargs\n",
    "        return None\n",
    "    def fit(self, X, y=None):\n",
    "        print(\"Fitting Data...\")\n",
    "        return self  # nothing else to do\n",
    "    def transform(self, X, y=None):\n",
    "        print(\"Transforming Data...\")\n",
    "        \n",
    "        #Perform Imputation for the below mentioned variables\n",
    "        X['totals_newVisits'].fillna(0,inplace=True) \n",
    "        X['totals_bounces'].fillna(0,inplace=True)\n",
    "        X['trafficSource_adwordsClickInfo_page'].fillna(0,inplace=True)\n",
    "        X['trafficSource_isTrueDirect'].replace({np.nan:0,'true':1},inplace=True)\n",
    "        X['totals_bounces']   = X['totals_bounces'].fillna(0.0)\n",
    "        X['totals_newVisits'] = X['totals_newVisits'].fillna(0.0)\n",
    "        \n",
    "        #Feature Engineering     \n",
    "        X = process_date_time(X)\n",
    "        X = process_format(X)\n",
    "        X = process_device(X)\n",
    "        X = process_totals(X)\n",
    "        X = process_geo_network(X)\n",
    "        \n",
    "        #Drop Columns that has No Variance in the data\n",
    "        cols_to_drop = [col for col in train_df.columns if train_df[col].nunique(dropna=False) == 1 and \n",
    "                        col not in ['totals_transactionRevenue','date']]\n",
    "        X.drop(cols_to_drop, axis=1, inplace=True)\n",
    "    \n",
    "        #Column with mostly NULL value and only one NOT NULL value\n",
    "        if 'trafficSource_campaign' in X.columns:\n",
    "             X.drop(['trafficSource_campaign'], axis=1, inplace=True)\n",
    "    \n",
    "        return X"
   ]
  },
  {
   "cell_type": "markdown",
   "metadata": {
    "id": "10JFhHIKH2p7"
   },
   "source": [
    "**Data Preparation**\n",
    "\n",
    "Setup X_train and y_train that will be used in the Scikit Learn Train/Test model"
   ]
  },
  {
   "cell_type": "code",
   "execution_count": 48,
   "metadata": {
    "id": "MRZORMLgHLaT"
   },
   "outputs": [],
   "source": [
    "train_df = traindf.copy()\n",
    "train_df.columns = traindf.columns.str.replace(\".\",\"_\")\n",
    "train_df = train_df.sort_values('date')\n",
    "\n",
    "#Prepare Target Variable\n",
    "train_df['totals_transactionRevenue'] = train_df['totals_transactionRevenue'].astype(float)\n",
    "train_df['totals_transactionRevenue'] = train_df['totals_transactionRevenue'].fillna(0)\n",
    "train_df['totals_transactionRevenue'] = np.log1p(train_df['totals_transactionRevenue'])\n",
    "X_train = train_df.drop('totals_transactionRevenue',axis=1)\n",
    "y_train = train_df['totals_transactionRevenue']"
   ]
  },
  {
   "cell_type": "markdown",
   "metadata": {
    "id": "R81oVGotLlDI"
   },
   "source": [
    "#### Invoke Orchestration Class ####\n"
   ]
  },
  {
   "cell_type": "code",
   "execution_count": 47,
   "metadata": {
    "id": "3Bgjqm8yXwwn"
   },
   "outputs": [],
   "source": [
    "X_train_copy = X_train.copy()"
   ]
  },
  {
   "cell_type": "code",
   "execution_count": 49,
   "metadata": {
    "colab": {
     "base_uri": "https://localhost:8080/"
    },
    "id": "992qUpJaLta6",
    "outputId": "5b9cadb0-6b31-41de-c18d-e677a8daaa03"
   },
   "outputs": [
    {
     "name": "stdout",
     "output_type": "stream",
     "text": [
      "Fitting Data...\n",
      "Transforming Data...\n",
      "process date time ...\n",
      "process format ...\n",
      "process device ...\n",
      "process totals ...\n",
      "process geo network ...\n"
     ]
    }
   ],
   "source": [
    "Benchmark.Start()\n",
    "X_train = AttributesPreprocessor().fit_transform(X_train,y_train)\n",
    "Benchmark.Stop()"
   ]
  },
  {
   "cell_type": "code",
   "execution_count": 50,
   "metadata": {
    "colab": {
     "base_uri": "https://localhost:8080/"
    },
    "id": "NC3exlc50jdc",
    "outputId": "d356bda5-0ea4-4bd4-b568-0aa2ee6b1b40"
   },
   "outputs": [
    {
     "name": "stdout",
     "output_type": "stream",
     "text": [
      "\n",
      "+---------------------+------------------------------------------------------------------+\n",
      "| Attribute           | Value                                                            |\n",
      "|---------------------+------------------------------------------------------------------|\n",
      "| BUG_REPORT_URL      | \"https://bugs.launchpad.net/ubuntu/\"                             |\n",
      "| DISTRIB_CODENAME    | bionic                                                           |\n",
      "| DISTRIB_DESCRIPTION | \"Ubuntu 18.04.5 LTS\"                                             |\n",
      "| DISTRIB_ID          | Ubuntu                                                           |\n",
      "| DISTRIB_RELEASE     | 18.04                                                            |\n",
      "| HOME_URL            | \"https://www.ubuntu.com/\"                                        |\n",
      "| ID                  | ubuntu                                                           |\n",
      "| ID_LIKE             | debian                                                           |\n",
      "| NAME                | \"Ubuntu\"                                                         |\n",
      "| PRETTY_NAME         | \"Ubuntu 18.04.5 LTS\"                                             |\n",
      "| PRIVACY_POLICY_URL  | \"https://www.ubuntu.com/legal/terms-and-policies/privacy-policy\" |\n",
      "| SUPPORT_URL         | \"https://help.ubuntu.com/\"                                       |\n",
      "| UBUNTU_CODENAME     | bionic                                                           |\n",
      "| VERSION             | \"18.04.5 LTS (Bionic Beaver)\"                                    |\n",
      "| VERSION_CODENAME    | bionic                                                           |\n",
      "| VERSION_ID          | \"18.04\"                                                          |\n",
      "| cpu_count           | 4                                                                |\n",
      "| mem.active          | 7.3 GiB                                                          |\n",
      "| mem.available       | 18.0 GiB                                                         |\n",
      "| mem.free            | 12.0 GiB                                                         |\n",
      "| mem.inactive        | 5.9 GiB                                                          |\n",
      "| mem.percent         | 29.6 %                                                           |\n",
      "| mem.total           | 25.5 GiB                                                         |\n",
      "| mem.used            | 11.2 GiB                                                         |\n",
      "| platform.version    | #1 SMP Thu Jul 23 08:00:38 PDT 2020                              |\n",
      "| python              | 3.6.9 (default, Oct  8 2020, 12:12:24)                           |\n",
      "|                     | [GCC 8.4.0]                                                      |\n",
      "| python.pip          | 19.3.1                                                           |\n",
      "| python.version      | 3.6.9                                                            |\n",
      "| sys.platform        | linux                                                            |\n",
      "| uname.machine       | x86_64                                                           |\n",
      "| uname.node          | 0098bf7245f6                                                     |\n",
      "| uname.processor     | x86_64                                                           |\n",
      "| uname.release       | 4.19.112+                                                        |\n",
      "| uname.system        | Linux                                                            |\n",
      "| uname.version       | #1 SMP Thu Jul 23 08:00:38 PDT 2020                              |\n",
      "| user                | collab                                                           |\n",
      "+---------------------+------------------------------------------------------------------+\n",
      "\n",
      "+------------------------------------------+----------+--------+--------+---------------------+-------+--------------+--------+-------+-------------------------------------+\n",
      "| Name                                     | Status   |   Time |    Sum | Start               | tag   | Node         | User   | OS    | Version                             |\n",
      "|------------------------------------------+----------+--------+--------+---------------------+-------+--------------+--------+-------+-------------------------------------|\n",
      "| a                                        | ok       | 42.183 | 42.183 | 2020-11-17 23:05:56 |       | 0098bf7245f6 | collab | Linux | #1 SMP Thu Jul 23 08:00:38 PDT 2020 |\n",
      "| <timed exec>/<module>                    | ok       |  0.013 |  0.022 | 2020-11-17 23:12:35 |       | 0098bf7245f6 | collab | Linux | #1 SMP Thu Jul 23 08:00:38 PDT 2020 |\n",
      "| <ipython-input-49-75d1b9eabf66>/<module> | ok       | 21.819 | 21.819 | 2020-11-18 00:47:29 |       | 0098bf7245f6 | collab | Linux | #1 SMP Thu Jul 23 08:00:38 PDT 2020 |\n",
      "+------------------------------------------+----------+--------+--------+---------------------+-------+--------------+--------+-------+-------------------------------------+\n",
      "\n",
      "# csv,timer,status,time,sum,start,tag,uname.node,user,uname.system,platform.version\n",
      "# csv,a,ok,42.183,42.183,2020-11-17 23:05:56,,0098bf7245f6,collab,Linux,#1 SMP Thu Jul 23 08:00:38 PDT 2020\n",
      "# csv,<timed exec>/<module>,ok,0.013,0.022,2020-11-17 23:12:35,,0098bf7245f6,collab,Linux,#1 SMP Thu Jul 23 08:00:38 PDT 2020\n",
      "# csv,<ipython-input-49-75d1b9eabf66>/<module>,ok,21.819,21.819,2020-11-18 00:47:29,,0098bf7245f6,collab,Linux,#1 SMP Thu Jul 23 08:00:38 PDT 2020\n",
      "\n"
     ]
    }
   ],
   "source": [
    "Benchmark.print()"
   ]
  },
  {
   "cell_type": "markdown",
   "metadata": {
    "id": "kAQNHJi0d2YM"
   },
   "source": [
    "#### Split the data using standard function ####"
   ]
  },
  {
   "cell_type": "code",
   "execution_count": 51,
   "metadata": {
    "id": "nGlvvWoMd8qC"
   },
   "outputs": [],
   "source": [
    "from sklearn.model_selection import train_test_split\n",
    "X_train_split, X_test_split, y_train_split, y_test_split = train_test_split(X_train, y_train, test_size=0.2, random_state=42)"
   ]
  },
  {
   "cell_type": "markdown",
   "metadata": {
    "id": "fgxj4QH_eDfj"
   },
   "source": [
    "#### Build the full SKLearn pipeline ####\n",
    "\n",
    "*   The below steps builds the required data pipeline for the project. We identify numeric columns manually. We then specify the columns that aren't numeric are categorical colums and identify the categorical columns\n",
    "*   For the numeric column and catagorical columns we setup the data pipeline accordingly\n",
    "*   Full pipeline is setup by callgin the numeric pipeline and Categorical pipeline\n",
    "\n",
    "\n",
    "\n"
   ]
  },
  {
   "cell_type": "code",
   "execution_count": 52,
   "metadata": {
    "id": "7NU9lKc7eGf0"
   },
   "outputs": [],
   "source": [
    "from sklearn.pipeline import Pipeline\n",
    "from sklearn.pipeline import FeatureUnion\n",
    "from sklearn.preprocessing import StandardScaler\n",
    "from sklearn.preprocessing import MinMaxScaler\n",
    "from sklearn.impute import SimpleImputer \n",
    "num_cols = ['month_unique_user_count', 'day_unique_user_count', 'weekday_unique_user_count','visitNumber', 'totals_hits', 'totals_pageviews', \n",
    "            'mean_hits_per_day', 'sum_hits_per_day', 'min_hits_per_day', 'max_hits_per_day', 'var_hits_per_day',\n",
    "            'sum_pageviews_per_network_domain', 'count_pageviews_per_network_domain', 'mean_pageviews_per_network_domain',\n",
    "            'sum_hits_per_network_domain', 'count_hits_per_network_domain', 'mean_hits_per_network_domain']\n",
    "cols_to_drop = [col for col in train_df.columns if train_df[col].nunique(dropna=False) == 1 and  col not in ['totals_transactionRevenue','date']]\n",
    "cat_cols     = [col for col in X_train.columns if col not in num_cols and  col not in cols_to_drop and col not in 'trafficSource_campaign']\n",
    "num_pipeline = Pipeline([\n",
    "        ('selector', DataFrameSelector(num_cols)),\n",
    "        ('std_scaler', MinMaxScaler())\n",
    "    ])\n",
    "\n",
    "cat_pipeline = Pipeline([\n",
    "        ('selector', DataFrameSelector(cat_cols)),\n",
    "        ('cat_encoder', CategoricalEncoder(cat_cols))\n",
    "    ])\n",
    "\n",
    "full_pipeline = FeatureUnion(transformer_list=[\n",
    "        (\"num_pipeline\", num_pipeline),\n",
    "        (\"cat_pipeline\", cat_pipeline)\n",
    "    ])"
   ]
  },
  {
   "cell_type": "markdown",
   "metadata": {
    "id": "j7EmNgpUe17t"
   },
   "source": [
    "### Model Building and Cross Validation using Grid Search ###"
   ]
  },
  {
   "cell_type": "markdown",
   "metadata": {},
   "source": [
    "### Linear Regression ###"
   ]
  },
  {
   "cell_type": "markdown",
   "metadata": {
    "id": "bDSa4qkpfMD8"
   },
   "source": [
    "#### Linear Regression - Model Preparation step ####\n",
    "\n",
    "1.   Specify the LinearRegression in the sklearn pipeline function \n",
    "2.   Provide the Pipeline as an input to the Pipeline class\n",
    "\n"
   ]
  },
  {
   "cell_type": "code",
   "execution_count": 53,
   "metadata": {
    "colab": {
     "base_uri": "https://localhost:8080/"
    },
    "id": "F1xwQWQxfLX9",
    "outputId": "e6e9072c-d947-46c2-da8b-e7893306c883"
   },
   "outputs": [
    {
     "name": "stdout",
     "output_type": "stream",
     "text": [
      "prepare model...\n"
     ]
    }
   ],
   "source": [
    "from sklearn.linear_model import LinearRegression\n",
    "print(\"prepare model...\")\n",
    "prepare_select_and_predict_pipeline = Pipeline([\n",
    "    ('preparation', full_pipeline),\n",
    "    (\"linRegression\", LinearRegression())\n",
    "])"
   ]
  },
  {
   "cell_type": "markdown",
   "metadata": {},
   "source": [
    "#### Grid Search and Fit data ####"
   ]
  },
  {
   "cell_type": "markdown",
   "metadata": {
    "id": "-laFxTAB30vb"
   },
   "source": [
    "Setting up the Gridsearch along (not too many for Linear Regression), and calling the GridSearchCV Class with 5 fold CV to perform Training"
   ]
  },
  {
   "cell_type": "code",
   "execution_count": 54,
   "metadata": {
    "colab": {
     "base_uri": "https://localhost:8080/"
    },
    "id": "mrcZkMcVfT_X",
    "outputId": "d6bd0ecb-64cd-4ba8-b963-5a16dfe9d37f"
   },
   "outputs": [
    {
     "name": "stdout",
     "output_type": "stream",
     "text": [
      "Fitting 5 folds for each of 2 candidates, totalling 10 fits\n"
     ]
    },
    {
     "name": "stderr",
     "output_type": "stream",
     "text": [
      "[Parallel(n_jobs=-1)]: Using backend LokyBackend with 4 concurrent workers.\n",
      "[Parallel(n_jobs=-1)]: Done  10 out of  10 | elapsed:  7.4min finished\n"
     ]
    }
   ],
   "source": [
    "Benchmark.Start()\n",
    "from sklearn.model_selection import GridSearchCV\n",
    "param_grid = {\n",
    "    'linRegression__fit_intercept'     : [True,False],\n",
    "    'linRegression__n_jobs'            : [-1]\n",
    "}\n",
    "grid_search_prep_LR = GridSearchCV(prepare_select_and_predict_pipeline, param_grid, cv=5,\n",
    "                                scoring='neg_mean_squared_error', verbose=2, n_jobs=-1)\n",
    "grid_search_prep_LR.fit(X_train_split, y_train_split)\n",
    "Benchmark.Stop()"
   ]
  },
  {
   "cell_type": "code",
   "execution_count": 55,
   "metadata": {
    "colab": {
     "base_uri": "https://localhost:8080/"
    },
    "id": "k2PF5pBU4_tr",
    "outputId": "b9dea78e-e4f4-49e9-d901-beb488aa937e"
   },
   "outputs": [
    {
     "name": "stdout",
     "output_type": "stream",
     "text": [
      "\n",
      "+---------------------+------------------------------------------------------------------+\n",
      "| Attribute           | Value                                                            |\n",
      "|---------------------+------------------------------------------------------------------|\n",
      "| BUG_REPORT_URL      | \"https://bugs.launchpad.net/ubuntu/\"                             |\n",
      "| DISTRIB_CODENAME    | bionic                                                           |\n",
      "| DISTRIB_DESCRIPTION | \"Ubuntu 18.04.5 LTS\"                                             |\n",
      "| DISTRIB_ID          | Ubuntu                                                           |\n",
      "| DISTRIB_RELEASE     | 18.04                                                            |\n",
      "| HOME_URL            | \"https://www.ubuntu.com/\"                                        |\n",
      "| ID                  | ubuntu                                                           |\n",
      "| ID_LIKE             | debian                                                           |\n",
      "| NAME                | \"Ubuntu\"                                                         |\n",
      "| PRETTY_NAME         | \"Ubuntu 18.04.5 LTS\"                                             |\n",
      "| PRIVACY_POLICY_URL  | \"https://www.ubuntu.com/legal/terms-and-policies/privacy-policy\" |\n",
      "| SUPPORT_URL         | \"https://help.ubuntu.com/\"                                       |\n",
      "| UBUNTU_CODENAME     | bionic                                                           |\n",
      "| VERSION             | \"18.04.5 LTS (Bionic Beaver)\"                                    |\n",
      "| VERSION_CODENAME    | bionic                                                           |\n",
      "| VERSION_ID          | \"18.04\"                                                          |\n",
      "| cpu_count           | 4                                                                |\n",
      "| mem.active          | 9.5 GiB                                                          |\n",
      "| mem.available       | 15.9 GiB                                                         |\n",
      "| mem.free            | 13.2 GiB                                                         |\n",
      "| mem.inactive        | 2.6 GiB                                                          |\n",
      "| mem.percent         | 37.7 %                                                           |\n",
      "| mem.total           | 25.5 GiB                                                         |\n",
      "| mem.used            | 11.7 GiB                                                         |\n",
      "| platform.version    | #1 SMP Thu Jul 23 08:00:38 PDT 2020                              |\n",
      "| python              | 3.6.9 (default, Oct  8 2020, 12:12:24)                           |\n",
      "|                     | [GCC 8.4.0]                                                      |\n",
      "| python.pip          | 19.3.1                                                           |\n",
      "| python.version      | 3.6.9                                                            |\n",
      "| sys.platform        | linux                                                            |\n",
      "| uname.machine       | x86_64                                                           |\n",
      "| uname.node          | 0098bf7245f6                                                     |\n",
      "| uname.processor     | x86_64                                                           |\n",
      "| uname.release       | 4.19.112+                                                        |\n",
      "| uname.system        | Linux                                                            |\n",
      "| uname.version       | #1 SMP Thu Jul 23 08:00:38 PDT 2020                              |\n",
      "| user                | collab                                                           |\n",
      "+---------------------+------------------------------------------------------------------+\n",
      "\n",
      "+------------------------------------------+----------+---------+---------+---------------------+-------+--------------+--------+-------+-------------------------------------+\n",
      "| Name                                     | Status   |    Time |     Sum | Start               | tag   | Node         | User   | OS    | Version                             |\n",
      "|------------------------------------------+----------+---------+---------+---------------------+-------+--------------+--------+-------+-------------------------------------|\n",
      "| a                                        | ok       |  42.183 |  42.183 | 2020-11-17 23:05:56 |       | 0098bf7245f6 | collab | Linux | #1 SMP Thu Jul 23 08:00:38 PDT 2020 |\n",
      "| <timed exec>/<module>                    | ok       |   0.013 |   0.022 | 2020-11-17 23:12:35 |       | 0098bf7245f6 | collab | Linux | #1 SMP Thu Jul 23 08:00:38 PDT 2020 |\n",
      "| <ipython-input-49-75d1b9eabf66>/<module> | ok       |  21.819 |  21.819 | 2020-11-18 00:47:29 |       | 0098bf7245f6 | collab | Linux | #1 SMP Thu Jul 23 08:00:38 PDT 2020 |\n",
      "| <ipython-input-54-63aebd3d5c69>/<module> | ok       | 560.988 | 560.988 | 2020-11-18 01:08:05 |       | 0098bf7245f6 | collab | Linux | #1 SMP Thu Jul 23 08:00:38 PDT 2020 |\n",
      "+------------------------------------------+----------+---------+---------+---------------------+-------+--------------+--------+-------+-------------------------------------+\n",
      "\n",
      "# csv,timer,status,time,sum,start,tag,uname.node,user,uname.system,platform.version\n",
      "# csv,a,ok,42.183,42.183,2020-11-17 23:05:56,,0098bf7245f6,collab,Linux,#1 SMP Thu Jul 23 08:00:38 PDT 2020\n",
      "# csv,<timed exec>/<module>,ok,0.013,0.022,2020-11-17 23:12:35,,0098bf7245f6,collab,Linux,#1 SMP Thu Jul 23 08:00:38 PDT 2020\n",
      "# csv,<ipython-input-49-75d1b9eabf66>/<module>,ok,21.819,21.819,2020-11-18 00:47:29,,0098bf7245f6,collab,Linux,#1 SMP Thu Jul 23 08:00:38 PDT 2020\n",
      "# csv,<ipython-input-54-63aebd3d5c69>/<module>,ok,560.988,560.988,2020-11-18 01:08:05,,0098bf7245f6,collab,Linux,#1 SMP Thu Jul 23 08:00:38 PDT 2020\n",
      "\n"
     ]
    }
   ],
   "source": [
    "Benchmark.print()"
   ]
  },
  {
   "cell_type": "markdown",
   "metadata": {
    "id": "TnP0LY_Hn4L8"
   },
   "source": [
    "#### Grid Search Results ####"
   ]
  },
  {
   "cell_type": "code",
   "execution_count": 56,
   "metadata": {
    "colab": {
     "base_uri": "https://localhost:8080/",
     "height": 165
    },
    "id": "RlmJElxSn3w_",
    "outputId": "c3cc39ae-a691-49fa-9d02-ab96fa560530"
   },
   "outputs": [
    {
     "data": {
      "text/html": [
       "<div>\n",
       "<style scoped>\n",
       "    .dataframe tbody tr th:only-of-type {\n",
       "        vertical-align: middle;\n",
       "    }\n",
       "\n",
       "    .dataframe tbody tr th {\n",
       "        vertical-align: top;\n",
       "    }\n",
       "\n",
       "    .dataframe thead th {\n",
       "        text-align: right;\n",
       "    }\n",
       "</style>\n",
       "<table border=\"1\" class=\"dataframe\">\n",
       "  <thead>\n",
       "    <tr style=\"text-align: right;\">\n",
       "      <th></th>\n",
       "      <th>mean_fit_time</th>\n",
       "      <th>std_fit_time</th>\n",
       "      <th>mean_score_time</th>\n",
       "      <th>std_score_time</th>\n",
       "      <th>param_linRegression__fit_intercept</th>\n",
       "      <th>param_linRegression__n_jobs</th>\n",
       "      <th>params</th>\n",
       "      <th>split0_test_score</th>\n",
       "      <th>split1_test_score</th>\n",
       "      <th>split2_test_score</th>\n",
       "      <th>split3_test_score</th>\n",
       "      <th>split4_test_score</th>\n",
       "      <th>mean_test_score</th>\n",
       "      <th>std_test_score</th>\n",
       "      <th>rank_test_score</th>\n",
       "    </tr>\n",
       "  </thead>\n",
       "  <tbody>\n",
       "    <tr>\n",
       "      <th>0</th>\n",
       "      <td>125.838077</td>\n",
       "      <td>3.514977</td>\n",
       "      <td>30.848582</td>\n",
       "      <td>2.451899</td>\n",
       "      <td>True</td>\n",
       "      <td>-1</td>\n",
       "      <td>{'linRegression__fit_intercept': True, 'linReg...</td>\n",
       "      <td>-3.577546</td>\n",
       "      <td>-3.878679</td>\n",
       "      <td>-3.481699</td>\n",
       "      <td>-3.496584</td>\n",
       "      <td>-3.423469</td>\n",
       "      <td>-3.571595</td>\n",
       "      <td>0.161236</td>\n",
       "      <td>1</td>\n",
       "    </tr>\n",
       "    <tr>\n",
       "      <th>1</th>\n",
       "      <td>110.221509</td>\n",
       "      <td>21.976129</td>\n",
       "      <td>25.176262</td>\n",
       "      <td>6.728731</td>\n",
       "      <td>False</td>\n",
       "      <td>-1</td>\n",
       "      <td>{'linRegression__fit_intercept': False, 'linRe...</td>\n",
       "      <td>-8.552031</td>\n",
       "      <td>-4.217642</td>\n",
       "      <td>-8.742225</td>\n",
       "      <td>-8.016377</td>\n",
       "      <td>-7.721763</td>\n",
       "      <td>-7.450008</td>\n",
       "      <td>1.656931</td>\n",
       "      <td>2</td>\n",
       "    </tr>\n",
       "  </tbody>\n",
       "</table>\n",
       "</div>"
      ],
      "text/plain": [
       "   mean_fit_time  std_fit_time  ...  std_test_score  rank_test_score\n",
       "0     125.838077      3.514977  ...        0.161236                1\n",
       "1     110.221509     21.976129  ...        1.656931                2\n",
       "\n",
       "[2 rows x 15 columns]"
      ]
     },
     "execution_count": 56,
     "metadata": {
      "tags": []
     },
     "output_type": "execute_result"
    }
   ],
   "source": [
    "pd.DataFrame(grid_search_prep_LR.cv_results_)"
   ]
  },
  {
   "cell_type": "markdown",
   "metadata": {
    "id": "v9pTWrGBoHv-"
   },
   "source": [
    "#### Predict using Best LR Model ####\n",
    "\n",
    "The grid serach provides the list of all the models. The function is used to predict the target variable using the test dataset, that was split using the Train_Test_Split function from SkLearn.\n",
    "\n"
   ]
  },
  {
   "cell_type": "code",
   "execution_count": 57,
   "metadata": {
    "id": "QbwUK7hfoJM6"
   },
   "outputs": [],
   "source": [
    "Benchmark.Start()\n",
    "results = pd.DataFrame(columns=[\"Model description\", \"Best Params\", \"Best RMSE Score\", \"Train RMSE\",\"Test RMSE\", \"Train Time\", \"Test Time\"])\n",
    "pd.set_option('display.max_colwidth', 0)\n",
    "\n",
    "import time\n",
    "start = time.time()\n",
    "grid_search_prep_LR.best_estimator_.fit(X_train_split,y_train_split)\n",
    "y_train_pred = grid_search_prep_LR.best_estimator_.predict(X_train_split)\n",
    "train_time = time.time() - start\n",
    "start = time.time()\n",
    "y_test_pred = grid_search_prep_LR.best_estimator_.predict(X_test_split)\n",
    "test_time = time.time() - start\n",
    "\n",
    "# add the result of this experiment ot the log book\n",
    "results.loc[len(results)] = [\"SKLearn Linear Regression Best Model\",\n",
    "                            grid_search_prep_LR.best_params_,\n",
    "                            np.round(np.sqrt(-1 * grid_search_prep_LR.best_score_), 3),\n",
    "                            np.round(np.sqrt(((y_train_split-y_train_pred)**2).mean()), 3),\n",
    "                            np.round(np.sqrt(((y_test_split-y_test_pred)**2).mean()), 3),\n",
    "                            train_time,\n",
    "                            test_time]\n",
    "Benchmark.Stop()"
   ]
  },
  {
   "cell_type": "markdown",
   "metadata": {
    "id": "dbVcapbB_EFw"
   },
   "source": [
    "The LR Model has a RMSE Score of **1.89**. The Train and Test RMSE Scores are close enough, that implies no overfitting in the model results"
   ]
  },
  {
   "cell_type": "code",
   "execution_count": 59,
   "metadata": {
    "colab": {
     "base_uri": "https://localhost:8080/",
     "height": 80
    },
    "id": "uyXbyUE2--Th",
    "outputId": "63ce9411-1990-4648-82e9-3ebcbe5757c6"
   },
   "outputs": [
    {
     "data": {
      "text/html": [
       "<div>\n",
       "<style scoped>\n",
       "    .dataframe tbody tr th:only-of-type {\n",
       "        vertical-align: middle;\n",
       "    }\n",
       "\n",
       "    .dataframe tbody tr th {\n",
       "        vertical-align: top;\n",
       "    }\n",
       "\n",
       "    .dataframe thead th {\n",
       "        text-align: right;\n",
       "    }\n",
       "</style>\n",
       "<table border=\"1\" class=\"dataframe\">\n",
       "  <thead>\n",
       "    <tr style=\"text-align: right;\">\n",
       "      <th></th>\n",
       "      <th>Model description</th>\n",
       "      <th>Best Params</th>\n",
       "      <th>Best RMSE Score</th>\n",
       "      <th>Train RMSE</th>\n",
       "      <th>Test RMSE</th>\n",
       "      <th>Train Time</th>\n",
       "      <th>Test Time</th>\n",
       "    </tr>\n",
       "  </thead>\n",
       "  <tbody>\n",
       "    <tr>\n",
       "      <th>0</th>\n",
       "      <td>SKLearn Linear Regression Best Model</td>\n",
       "      <td>{'linRegression__fit_intercept': True, 'linRegression__n_jobs': -1}</td>\n",
       "      <td>1.89</td>\n",
       "      <td>1.847</td>\n",
       "      <td>1.889</td>\n",
       "      <td>228.275228</td>\n",
       "      <td>27.941794</td>\n",
       "    </tr>\n",
       "  </tbody>\n",
       "</table>\n",
       "</div>"
      ],
      "text/plain": [
       "                      Model description  ...  Test Time\n",
       "0  SKLearn Linear Regression Best Model  ...  27.941794\n",
       "\n",
       "[1 rows x 7 columns]"
      ]
     },
     "execution_count": 59,
     "metadata": {
      "tags": []
     },
     "output_type": "execute_result"
    }
   ],
   "source": [
    "results"
   ]
  },
  {
   "cell_type": "code",
   "execution_count": 58,
   "metadata": {
    "colab": {
     "base_uri": "https://localhost:8080/"
    },
    "id": "2lh000gS9eI-",
    "outputId": "4273d574-208f-4aa2-eec6-695b3c48e2e1"
   },
   "outputs": [
    {
     "name": "stdout",
     "output_type": "stream",
     "text": [
      "\n",
      "+---------------------+------------------------------------------------------------------+\n",
      "| Attribute           | Value                                                            |\n",
      "|---------------------+------------------------------------------------------------------|\n",
      "| BUG_REPORT_URL      | \"https://bugs.launchpad.net/ubuntu/\"                             |\n",
      "| DISTRIB_CODENAME    | bionic                                                           |\n",
      "| DISTRIB_DESCRIPTION | \"Ubuntu 18.04.5 LTS\"                                             |\n",
      "| DISTRIB_ID          | Ubuntu                                                           |\n",
      "| DISTRIB_RELEASE     | 18.04                                                            |\n",
      "| HOME_URL            | \"https://www.ubuntu.com/\"                                        |\n",
      "| ID                  | ubuntu                                                           |\n",
      "| ID_LIKE             | debian                                                           |\n",
      "| NAME                | \"Ubuntu\"                                                         |\n",
      "| PRETTY_NAME         | \"Ubuntu 18.04.5 LTS\"                                             |\n",
      "| PRIVACY_POLICY_URL  | \"https://www.ubuntu.com/legal/terms-and-policies/privacy-policy\" |\n",
      "| SUPPORT_URL         | \"https://help.ubuntu.com/\"                                       |\n",
      "| UBUNTU_CODENAME     | bionic                                                           |\n",
      "| VERSION             | \"18.04.5 LTS (Bionic Beaver)\"                                    |\n",
      "| VERSION_CODENAME    | bionic                                                           |\n",
      "| VERSION_ID          | \"18.04\"                                                          |\n",
      "| cpu_count           | 4                                                                |\n",
      "| mem.active          | 9.6 GiB                                                          |\n",
      "| mem.available       | 15.7 GiB                                                         |\n",
      "| mem.free            | 12.7 GiB                                                         |\n",
      "| mem.inactive        | 2.8 GiB                                                          |\n",
      "| mem.percent         | 38.4 %                                                           |\n",
      "| mem.total           | 25.5 GiB                                                         |\n",
      "| mem.used            | 12.2 GiB                                                         |\n",
      "| platform.version    | #1 SMP Thu Jul 23 08:00:38 PDT 2020                              |\n",
      "| python              | 3.6.9 (default, Oct  8 2020, 12:12:24)                           |\n",
      "|                     | [GCC 8.4.0]                                                      |\n",
      "| python.pip          | 19.3.1                                                           |\n",
      "| python.version      | 3.6.9                                                            |\n",
      "| sys.platform        | linux                                                            |\n",
      "| uname.machine       | x86_64                                                           |\n",
      "| uname.node          | 0098bf7245f6                                                     |\n",
      "| uname.processor     | x86_64                                                           |\n",
      "| uname.release       | 4.19.112+                                                        |\n",
      "| uname.system        | Linux                                                            |\n",
      "| uname.version       | #1 SMP Thu Jul 23 08:00:38 PDT 2020                              |\n",
      "| user                | collab                                                           |\n",
      "+---------------------+------------------------------------------------------------------+\n",
      "\n",
      "+------------------------------------------+----------+---------+---------+---------------------+-------+--------------+--------+-------+-------------------------------------+\n",
      "| Name                                     | Status   |    Time |     Sum | Start               | tag   | Node         | User   | OS    | Version                             |\n",
      "|------------------------------------------+----------+---------+---------+---------------------+-------+--------------+--------+-------+-------------------------------------|\n",
      "| a                                        | ok       |  42.183 |  42.183 | 2020-11-17 23:05:56 |       | 0098bf7245f6 | collab | Linux | #1 SMP Thu Jul 23 08:00:38 PDT 2020 |\n",
      "| <timed exec>/<module>                    | ok       |   0.013 |   0.022 | 2020-11-17 23:12:35 |       | 0098bf7245f6 | collab | Linux | #1 SMP Thu Jul 23 08:00:38 PDT 2020 |\n",
      "| <ipython-input-49-75d1b9eabf66>/<module> | ok       |  21.819 |  21.819 | 2020-11-18 00:47:29 |       | 0098bf7245f6 | collab | Linux | #1 SMP Thu Jul 23 08:00:38 PDT 2020 |\n",
      "| <ipython-input-54-63aebd3d5c69>/<module> | ok       | 560.988 | 560.988 | 2020-11-18 01:08:05 |       | 0098bf7245f6 | collab | Linux | #1 SMP Thu Jul 23 08:00:38 PDT 2020 |\n",
      "| <ipython-input-57-8e6fba668515>/<module> | ok       | 256.255 | 256.255 | 2020-11-18 01:26:55 |       | 0098bf7245f6 | collab | Linux | #1 SMP Thu Jul 23 08:00:38 PDT 2020 |\n",
      "+------------------------------------------+----------+---------+---------+---------------------+-------+--------------+--------+-------+-------------------------------------+\n",
      "\n",
      "# csv,timer,status,time,sum,start,tag,uname.node,user,uname.system,platform.version\n",
      "# csv,a,ok,42.183,42.183,2020-11-17 23:05:56,,0098bf7245f6,collab,Linux,#1 SMP Thu Jul 23 08:00:38 PDT 2020\n",
      "# csv,<timed exec>/<module>,ok,0.013,0.022,2020-11-17 23:12:35,,0098bf7245f6,collab,Linux,#1 SMP Thu Jul 23 08:00:38 PDT 2020\n",
      "# csv,<ipython-input-49-75d1b9eabf66>/<module>,ok,21.819,21.819,2020-11-18 00:47:29,,0098bf7245f6,collab,Linux,#1 SMP Thu Jul 23 08:00:38 PDT 2020\n",
      "# csv,<ipython-input-54-63aebd3d5c69>/<module>,ok,560.988,560.988,2020-11-18 01:08:05,,0098bf7245f6,collab,Linux,#1 SMP Thu Jul 23 08:00:38 PDT 2020\n",
      "# csv,<ipython-input-57-8e6fba668515>/<module>,ok,256.255,256.255,2020-11-18 01:26:55,,0098bf7245f6,collab,Linux,#1 SMP Thu Jul 23 08:00:38 PDT 2020\n",
      "\n"
     ]
    }
   ],
   "source": [
    "Benchmark.print()"
   ]
  },
  {
   "cell_type": "markdown",
   "metadata": {
    "id": "DH_hzxx7diAF"
   },
   "source": [
    "### XGBoost Regressor ###"
   ]
  },
  {
   "cell_type": "markdown",
   "metadata": {},
   "source": [
    "#### Set Parameters ####"
   ]
  },
  {
   "cell_type": "markdown",
   "metadata": {
    "id": "YkljAwrLdssD"
   },
   "source": [
    "Import and Initialize xgboost"
   ]
  },
  {
   "cell_type": "code",
   "execution_count": 60,
   "metadata": {
    "id": "fnlz0zEYdwME"
   },
   "outputs": [],
   "source": [
    "import xgboost as xgb\n",
    "param = {\n",
    "    'max_depth': 8,  # tried 2,4,6 & 8\n",
    "    'eta': 0.01,  \n",
    "    'silent': 1,  \n",
    "    'objective': 'reg:linear',\n",
    "    'eval_metric': 'rmse',\n",
    "    'subsample': 0.6,\n",
    "    'colsample_bytree': 0.8,\n",
    "    'alpha':0.01,\n",
    "    'num_leaves' : 40,\n",
    "    'random_state': 42} "
   ]
  },
  {
   "cell_type": "markdown",
   "metadata": {
    "id": "pCXVOAFod7By"
   },
   "source": [
    "#### Build Model Pipeline ####"
   ]
  },
  {
   "cell_type": "code",
   "execution_count": 61,
   "metadata": {
    "id": "VchlNYNFd23i"
   },
   "outputs": [],
   "source": [
    "prepare_select_and_pipeline = Pipeline([\n",
    "    ('preparation', full_pipeline)])\n",
    "X_train_d=prepare_select_and_pipeline.fit_transform(X_train_split)\n",
    "X_test_d=prepare_select_and_pipeline.fit_transform(X_test_split)\n",
    "feature_names = X_train_split.columns"
   ]
  },
  {
   "cell_type": "markdown",
   "metadata": {},
   "source": [
    "#### Split data and Train Model ####"
   ]
  },
  {
   "cell_type": "markdown",
   "metadata": {
    "id": "eIxE0ozQeIjl"
   },
   "source": [
    "Split the Training Data and perform model training and construct the xgb matrix that is the required format by the xgb model to train the data\n",
    "\n",
    "Note: We tried to use CV but unfortunately the system kept running out of memory. So we aren't using any CV for XGBoose"
   ]
  },
  {
   "cell_type": "code",
   "execution_count": 62,
   "metadata": {
    "id": "FbyD_2w_eMHT"
   },
   "outputs": [],
   "source": [
    "X_train_split_tr, X_train_val, y_train_split_tr, y_train_val = train_test_split(X_train_d, y_train_split, test_size=0.2, random_state=42)\n",
    "X_train_tr_data = xgb.DMatrix(X_train_split_tr,label=y_train_split_tr,feature_names=feature_names)\n",
    "X_val_data = xgb.DMatrix(X_train_val,label=y_train_val,feature_names=feature_names)"
   ]
  },
  {
   "cell_type": "code",
   "execution_count": 63,
   "metadata": {
    "colab": {
     "base_uri": "https://localhost:8080/"
    },
    "id": "y8nHuWtzeL6b",
    "outputId": "82a74532-5d76-43e0-f54e-3985d0b0f5a7"
   },
   "outputs": [
    {
     "name": "stdout",
     "output_type": "stream",
     "text": [
      "[0]\ttrain-rmse:2.00954\tvalid-rmse:2.03174\n",
      "Multiple eval metrics have been passed: 'valid-rmse' will be used for early stopping.\n",
      "\n",
      "Will train until valid-rmse hasn't improved in 800 rounds.\n",
      "[1000]\ttrain-rmse:1.36244\tvalid-rmse:1.61998\n",
      "Stopping. Best iteration:\n",
      "[818]\ttrain-rmse:1.39367\tvalid-rmse:1.61876\n",
      "\n"
     ]
    }
   ],
   "source": [
    "Benchmark.Start()\n",
    "import time\n",
    "start = time.time()\n",
    "xgb_model = xgb.train(param, X_train_tr_data, evals=[(X_train_tr_data, 'train'), (X_val_data, 'valid')], num_boost_round=2500, early_stopping_rounds=800, verbose_eval=1000)\n",
    "train_time = time.time()-start\n",
    "Benchmark.Stop()"
   ]
  },
  {
   "cell_type": "markdown",
   "metadata": {
    "id": "RHHVyl-GeSRA"
   },
   "source": [
    "#### Predict Test set and Print Results ####"
   ]
  },
  {
   "cell_type": "code",
   "execution_count": 64,
   "metadata": {
    "id": "oqVWQPiHeW00"
   },
   "outputs": [],
   "source": [
    "Benchmark.Start()\n",
    "import numpy as np\n",
    "X_test_data = xgb.DMatrix(X_test_d,label=y_test_split,feature_names=feature_names)\n",
    "start = time.time()\n",
    "preds = xgb_model.predict(X_test_data,ntree_limit=xgb_model.best_ntree_limit)\n",
    "test_time=time.time()-start\n",
    "preds_train = xgb_model.predict(X_train_tr_data,ntree_limit=xgb_model.best_ntree_limit)\n",
    "np.round(np.sqrt(((y_test_split-preds)**2).mean()), 3)\n",
    "results.loc[len(results)] = [\"SKLearn Xgboost Regressor Best Model-3\",\n",
    "                            param,\n",
    "                            np.round(xgb_model.best_score, 3),\n",
    "                            np.round(np.sqrt(((y_train_split_tr-preds_train)**2).mean()), 3),\n",
    "                            np.round(np.sqrt(((y_test_split-preds)**2).mean()), 3),\n",
    "                            train_time,\n",
    "                            test_time]\n",
    "Benchmark.Stop()"
   ]
  },
  {
   "cell_type": "code",
   "execution_count": 65,
   "metadata": {
    "colab": {
     "base_uri": "https://localhost:8080/"
    },
    "id": "dIyGmtaBAlG0",
    "outputId": "4e2f7aeb-0303-4544-f97e-f9ed70042244"
   },
   "outputs": [
    {
     "name": "stdout",
     "output_type": "stream",
     "text": [
      "\n",
      "+---------------------+------------------------------------------------------------------+\n",
      "| Attribute           | Value                                                            |\n",
      "|---------------------+------------------------------------------------------------------|\n",
      "| BUG_REPORT_URL      | \"https://bugs.launchpad.net/ubuntu/\"                             |\n",
      "| DISTRIB_CODENAME    | bionic                                                           |\n",
      "| DISTRIB_DESCRIPTION | \"Ubuntu 18.04.5 LTS\"                                             |\n",
      "| DISTRIB_ID          | Ubuntu                                                           |\n",
      "| DISTRIB_RELEASE     | 18.04                                                            |\n",
      "| HOME_URL            | \"https://www.ubuntu.com/\"                                        |\n",
      "| ID                  | ubuntu                                                           |\n",
      "| ID_LIKE             | debian                                                           |\n",
      "| NAME                | \"Ubuntu\"                                                         |\n",
      "| PRETTY_NAME         | \"Ubuntu 18.04.5 LTS\"                                             |\n",
      "| PRIVACY_POLICY_URL  | \"https://www.ubuntu.com/legal/terms-and-policies/privacy-policy\" |\n",
      "| SUPPORT_URL         | \"https://help.ubuntu.com/\"                                       |\n",
      "| UBUNTU_CODENAME     | bionic                                                           |\n",
      "| VERSION             | \"18.04.5 LTS (Bionic Beaver)\"                                    |\n",
      "| VERSION_CODENAME    | bionic                                                           |\n",
      "| VERSION_ID          | \"18.04\"                                                          |\n",
      "| cpu_count           | 4                                                                |\n",
      "| mem.active          | 10.9 GiB                                                         |\n",
      "| mem.available       | 14.2 GiB                                                         |\n",
      "| mem.free            | 12.1 GiB                                                         |\n",
      "| mem.inactive        | 2.1 GiB                                                          |\n",
      "| mem.percent         | 44.3 %                                                           |\n",
      "| mem.total           | 25.5 GiB                                                         |\n",
      "| mem.used            | 12.7 GiB                                                         |\n",
      "| platform.version    | #1 SMP Thu Jul 23 08:00:38 PDT 2020                              |\n",
      "| python              | 3.6.9 (default, Oct  8 2020, 12:12:24)                           |\n",
      "|                     | [GCC 8.4.0]                                                      |\n",
      "| python.pip          | 19.3.1                                                           |\n",
      "| python.version      | 3.6.9                                                            |\n",
      "| sys.platform        | linux                                                            |\n",
      "| uname.machine       | x86_64                                                           |\n",
      "| uname.node          | 0098bf7245f6                                                     |\n",
      "| uname.processor     | x86_64                                                           |\n",
      "| uname.release       | 4.19.112+                                                        |\n",
      "| uname.system        | Linux                                                            |\n",
      "| uname.version       | #1 SMP Thu Jul 23 08:00:38 PDT 2020                              |\n",
      "| user                | collab                                                           |\n",
      "+---------------------+------------------------------------------------------------------+\n",
      "\n",
      "+------------------------------------------+----------+----------+----------+---------------------+-------+--------------+--------+-------+-------------------------------------+\n",
      "| Name                                     | Status   |     Time |      Sum | Start               | tag   | Node         | User   | OS    | Version                             |\n",
      "|------------------------------------------+----------+----------+----------+---------------------+-------+--------------+--------+-------+-------------------------------------|\n",
      "| a                                        | ok       |   42.183 |   42.183 | 2020-11-17 23:05:56 |       | 0098bf7245f6 | collab | Linux | #1 SMP Thu Jul 23 08:00:38 PDT 2020 |\n",
      "| <timed exec>/<module>                    | ok       |    0.013 |    0.022 | 2020-11-17 23:12:35 |       | 0098bf7245f6 | collab | Linux | #1 SMP Thu Jul 23 08:00:38 PDT 2020 |\n",
      "| <ipython-input-49-75d1b9eabf66>/<module> | ok       |   21.819 |   21.819 | 2020-11-18 00:47:29 |       | 0098bf7245f6 | collab | Linux | #1 SMP Thu Jul 23 08:00:38 PDT 2020 |\n",
      "| <ipython-input-54-63aebd3d5c69>/<module> | ok       |  560.988 |  560.988 | 2020-11-18 01:08:05 |       | 0098bf7245f6 | collab | Linux | #1 SMP Thu Jul 23 08:00:38 PDT 2020 |\n",
      "| <ipython-input-57-8e6fba668515>/<module> | ok       |  256.255 |  256.255 | 2020-11-18 01:26:55 |       | 0098bf7245f6 | collab | Linux | #1 SMP Thu Jul 23 08:00:38 PDT 2020 |\n",
      "| <ipython-input-63-4b4965de8094>/<module> | ok       | 1858.6   | 1858.6   | 2020-11-18 01:40:39 |       | 0098bf7245f6 | collab | Linux | #1 SMP Thu Jul 23 08:00:38 PDT 2020 |\n",
      "| <ipython-input-64-32e2baea0ad0>/<module> | ok       |   20.115 |   20.115 | 2020-11-18 02:11:37 |       | 0098bf7245f6 | collab | Linux | #1 SMP Thu Jul 23 08:00:38 PDT 2020 |\n",
      "+------------------------------------------+----------+----------+----------+---------------------+-------+--------------+--------+-------+-------------------------------------+\n",
      "\n",
      "# csv,timer,status,time,sum,start,tag,uname.node,user,uname.system,platform.version\n",
      "# csv,a,ok,42.183,42.183,2020-11-17 23:05:56,,0098bf7245f6,collab,Linux,#1 SMP Thu Jul 23 08:00:38 PDT 2020\n",
      "# csv,<timed exec>/<module>,ok,0.013,0.022,2020-11-17 23:12:35,,0098bf7245f6,collab,Linux,#1 SMP Thu Jul 23 08:00:38 PDT 2020\n",
      "# csv,<ipython-input-49-75d1b9eabf66>/<module>,ok,21.819,21.819,2020-11-18 00:47:29,,0098bf7245f6,collab,Linux,#1 SMP Thu Jul 23 08:00:38 PDT 2020\n",
      "# csv,<ipython-input-54-63aebd3d5c69>/<module>,ok,560.988,560.988,2020-11-18 01:08:05,,0098bf7245f6,collab,Linux,#1 SMP Thu Jul 23 08:00:38 PDT 2020\n",
      "# csv,<ipython-input-57-8e6fba668515>/<module>,ok,256.255,256.255,2020-11-18 01:26:55,,0098bf7245f6,collab,Linux,#1 SMP Thu Jul 23 08:00:38 PDT 2020\n",
      "# csv,<ipython-input-63-4b4965de8094>/<module>,ok,1858.598,1858.598,2020-11-18 01:40:39,,0098bf7245f6,collab,Linux,#1 SMP Thu Jul 23 08:00:38 PDT 2020\n",
      "# csv,<ipython-input-64-32e2baea0ad0>/<module>,ok,20.115,20.115,2020-11-18 02:11:37,,0098bf7245f6,collab,Linux,#1 SMP Thu Jul 23 08:00:38 PDT 2020\n",
      "\n"
     ]
    }
   ],
   "source": [
    "Benchmark.print()"
   ]
  },
  {
   "cell_type": "code",
   "execution_count": 66,
   "metadata": {
    "colab": {
     "base_uri": "https://localhost:8080/",
     "height": 145
    },
    "id": "s0A9dbigea5B",
    "outputId": "473a409a-2860-4739-ce73-e794c1d09fcd"
   },
   "outputs": [
    {
     "data": {
      "text/html": [
       "<div>\n",
       "<style scoped>\n",
       "    .dataframe tbody tr th:only-of-type {\n",
       "        vertical-align: middle;\n",
       "    }\n",
       "\n",
       "    .dataframe tbody tr th {\n",
       "        vertical-align: top;\n",
       "    }\n",
       "\n",
       "    .dataframe thead th {\n",
       "        text-align: right;\n",
       "    }\n",
       "</style>\n",
       "<table border=\"1\" class=\"dataframe\">\n",
       "  <thead>\n",
       "    <tr style=\"text-align: right;\">\n",
       "      <th></th>\n",
       "      <th>Model description</th>\n",
       "      <th>Best Params</th>\n",
       "      <th>Best RMSE Score</th>\n",
       "      <th>Train RMSE</th>\n",
       "      <th>Test RMSE</th>\n",
       "      <th>Train Time</th>\n",
       "      <th>Test Time</th>\n",
       "    </tr>\n",
       "  </thead>\n",
       "  <tbody>\n",
       "    <tr>\n",
       "      <th>0</th>\n",
       "      <td>SKLearn Linear Regression Best Model</td>\n",
       "      <td>{'linRegression__fit_intercept': True, 'linRegression__n_jobs': -1}</td>\n",
       "      <td>1.890</td>\n",
       "      <td>1.847</td>\n",
       "      <td>1.889</td>\n",
       "      <td>228.275228</td>\n",
       "      <td>27.941794</td>\n",
       "    </tr>\n",
       "    <tr>\n",
       "      <th>1</th>\n",
       "      <td>SKLearn Xgboost Regressor Best Model-3</td>\n",
       "      <td>{'max_depth': 8, 'eta': 0.01, 'silent': 1, 'objective': 'reg:linear', 'eval_metric': 'rmse', 'subsample': 0.6, 'colsample_bytree': 0.8, 'alpha': 0.01, 'num_leaves': 40, 'random_state': 42}</td>\n",
       "      <td>1.619</td>\n",
       "      <td>1.394</td>\n",
       "      <td>1.802</td>\n",
       "      <td>1858.585699</td>\n",
       "      <td>4.764785</td>\n",
       "    </tr>\n",
       "  </tbody>\n",
       "</table>\n",
       "</div>"
      ],
      "text/plain": [
       "                        Model description  ...  Test Time\n",
       "0  SKLearn Linear Regression Best Model    ...  27.941794\n",
       "1  SKLearn Xgboost Regressor Best Model-3  ...  4.764785 \n",
       "\n",
       "[2 rows x 7 columns]"
      ]
     },
     "execution_count": 66,
     "metadata": {
      "tags": []
     },
     "output_type": "execute_result"
    }
   ],
   "source": [
    "results"
   ]
  },
  {
   "cell_type": "markdown",
   "metadata": {
    "id": "EdULQK5QxVJV"
   },
   "source": [
    "### LightGBM Regressor ###"
   ]
  },
  {
   "cell_type": "markdown",
   "metadata": {},
   "source": [
    "#### Set Parameters ####"
   ]
  },
  {
   "cell_type": "markdown",
   "metadata": {
    "id": "yoVi-SXQK2Ep"
   },
   "source": [
    "Import and Initialize LightGBM"
   ]
  },
  {
   "cell_type": "code",
   "execution_count": 67,
   "metadata": {
    "id": "DX9Ban_SxjSV"
   },
   "outputs": [],
   "source": [
    "import lightgbm as lgb\n",
    "params = {'objective' : 'regression', \n",
    "          'metric' : 'rmse', \n",
    "          'n_estimators': 10000, \n",
    "          'early_stopping_rounds': 800,\n",
    "          'min_data_in_leaf' : 100,\n",
    "          'num_leaves' : 150, \n",
    "          'learning_rate' : 0.01, \n",
    "          'bagging_fraction' : 0.80,\n",
    "          'feature_fraction' : 0.85, \n",
    "          'bagging_seed' : 0,\n",
    "          'colsample_bytree' : 0.9,\n",
    "          'use_best_model': True}\n",
    "    "
   ]
  },
  {
   "cell_type": "markdown",
   "metadata": {
    "id": "5x8qTSBzLChc"
   },
   "source": [
    "#### Prepare Model Pipeline ####"
   ]
  },
  {
   "cell_type": "code",
   "execution_count": 68,
   "metadata": {
    "id": "bkPiXi3axk3b"
   },
   "outputs": [],
   "source": [
    "prepare_select_and_pipeline = Pipeline([\n",
    "    ('preparation', full_pipeline)])\n",
    "X_train_d=prepare_select_and_pipeline.fit_transform(X_train_split)\n",
    "X_test_d=prepare_select_and_pipeline.fit_transform(X_test_split)"
   ]
  },
  {
   "cell_type": "markdown",
   "metadata": {},
   "source": [
    "#### Split the dataset ####"
   ]
  },
  {
   "cell_type": "markdown",
   "metadata": {
    "id": "iMKShP67L8O3"
   },
   "source": [
    "Split the Training Data and perform model training and construct the lgb formatted object that is the required format by the lgb model to train the data"
   ]
  },
  {
   "cell_type": "code",
   "execution_count": 70,
   "metadata": {
    "id": "btMtvRwDxsK0"
   },
   "outputs": [],
   "source": [
    "X_train_split_tr, X_train_val, y_train_split_tr, y_train_val = train_test_split(X_train_d, y_train_split, test_size=0.2, random_state=42)\n",
    "X_train_tr_data = lgb.Dataset(X_train_split_tr,label=y_train_split_tr,feature_name=X_train_split.columns.tolist())\n",
    "X_val_data = lgb.Dataset(X_train_val,label=y_train_val,feature_name=X_train_split.columns.tolist())"
   ]
  },
  {
   "cell_type": "markdown",
   "metadata": {
    "id": "isV35HG3Ml4V"
   },
   "source": [
    "#### Train the model ####"
   ]
  },
  {
   "cell_type": "code",
   "execution_count": 71,
   "metadata": {
    "colab": {
     "base_uri": "https://localhost:8080/"
    },
    "id": "Kvcgx-70xtGM",
    "outputId": "b292e88d-8263-47e2-b3a7-0223bee96039"
   },
   "outputs": [
    {
     "name": "stdout",
     "output_type": "stream",
     "text": [
      "Training until validation scores don't improve for 800 rounds.\n",
      "[1000]\tvalid_0's rmse: 1.62613\n",
      "Early stopping, best iteration is:\n",
      "[516]\tvalid_0's rmse: 1.62106\n"
     ]
    }
   ],
   "source": [
    "Benchmark.Start()\n",
    "import time\n",
    "start = time.time()\n",
    "lgb_model = lgb.train(params, X_train_tr_data, valid_sets=[X_val_data], num_boost_round=10000, verbose_eval=1000)\n",
    "train_time = time.time()-start\n",
    "Benchmark.Stop()"
   ]
  },
  {
   "cell_type": "markdown",
   "metadata": {},
   "source": [
    "#### Predict and Print results ####"
   ]
  },
  {
   "cell_type": "code",
   "execution_count": 72,
   "metadata": {
    "id": "bh94huP1xwON"
   },
   "outputs": [],
   "source": [
    "Benchmark.Start()\n",
    "import numpy as np\n",
    "X_test_data = lgb.Dataset(X_test_d,label=y_test_split,feature_name=X_train_split.columns.tolist())\n",
    "start = time.time()\n",
    "preds = lgb_model.predict(X_test_d,num_iteration=lgb_model.best_iteration)\n",
    "test_time=time.time()-start\n",
    "preds_train = lgb_model.predict(X_train_split_tr, num_iteration=lgb_model.best_iteration)\n",
    "np.round(np.sqrt(((y_test_split-preds)**2).mean()), 3)\n",
    "results.loc[len(results)] = [\"LightGBM Regressor Best Model-3\",\n",
    "                             params,\n",
    "                             np.round(lgb_model.best_score['valid_0']['rmse'], 3),\n",
    "                             np.round(np.sqrt(((y_train_split_tr-preds_train)**2).mean()), 3),\n",
    "                             np.round(np.sqrt(((y_test_split-preds)**2).mean()), 3),\n",
    "                             train_time,\n",
    "                             test_time]\n",
    "Benchmark.Stop()"
   ]
  },
  {
   "cell_type": "code",
   "execution_count": 73,
   "metadata": {
    "colab": {
     "base_uri": "https://localhost:8080/"
    },
    "id": "m9giOQtqMs3Z",
    "outputId": "635d0991-fe6d-4d01-f24e-51b3713748cb"
   },
   "outputs": [
    {
     "name": "stdout",
     "output_type": "stream",
     "text": [
      "\n",
      "+---------------------+------------------------------------------------------------------+\n",
      "| Attribute           | Value                                                            |\n",
      "|---------------------+------------------------------------------------------------------|\n",
      "| BUG_REPORT_URL      | \"https://bugs.launchpad.net/ubuntu/\"                             |\n",
      "| DISTRIB_CODENAME    | bionic                                                           |\n",
      "| DISTRIB_DESCRIPTION | \"Ubuntu 18.04.5 LTS\"                                             |\n",
      "| DISTRIB_ID          | Ubuntu                                                           |\n",
      "| DISTRIB_RELEASE     | 18.04                                                            |\n",
      "| HOME_URL            | \"https://www.ubuntu.com/\"                                        |\n",
      "| ID                  | ubuntu                                                           |\n",
      "| ID_LIKE             | debian                                                           |\n",
      "| NAME                | \"Ubuntu\"                                                         |\n",
      "| PRETTY_NAME         | \"Ubuntu 18.04.5 LTS\"                                             |\n",
      "| PRIVACY_POLICY_URL  | \"https://www.ubuntu.com/legal/terms-and-policies/privacy-policy\" |\n",
      "| SUPPORT_URL         | \"https://help.ubuntu.com/\"                                       |\n",
      "| UBUNTU_CODENAME     | bionic                                                           |\n",
      "| VERSION             | \"18.04.5 LTS (Bionic Beaver)\"                                    |\n",
      "| VERSION_CODENAME    | bionic                                                           |\n",
      "| VERSION_ID          | \"18.04\"                                                          |\n",
      "| cpu_count           | 4                                                                |\n",
      "| mem.active          | 10.3 GiB                                                         |\n",
      "| mem.available       | 14.8 GiB                                                         |\n",
      "| mem.free            | 10.6 GiB                                                         |\n",
      "| mem.inactive        | 4.1 GiB                                                          |\n",
      "| mem.percent         | 42.0 %                                                           |\n",
      "| mem.total           | 25.5 GiB                                                         |\n",
      "| mem.used            | 14.1 GiB                                                         |\n",
      "| platform.version    | #1 SMP Thu Jul 23 08:00:38 PDT 2020                              |\n",
      "| python              | 3.6.9 (default, Oct  8 2020, 12:12:24)                           |\n",
      "|                     | [GCC 8.4.0]                                                      |\n",
      "| python.pip          | 19.3.1                                                           |\n",
      "| python.version      | 3.6.9                                                            |\n",
      "| sys.platform        | linux                                                            |\n",
      "| uname.machine       | x86_64                                                           |\n",
      "| uname.node          | 0098bf7245f6                                                     |\n",
      "| uname.processor     | x86_64                                                           |\n",
      "| uname.release       | 4.19.112+                                                        |\n",
      "| uname.system        | Linux                                                            |\n",
      "| uname.version       | #1 SMP Thu Jul 23 08:00:38 PDT 2020                              |\n",
      "| user                | collab                                                           |\n",
      "+---------------------+------------------------------------------------------------------+\n",
      "\n",
      "+------------------------------------------+----------+----------+----------+---------------------+-------+--------------+--------+-------+-------------------------------------+\n",
      "| Name                                     | Status   |     Time |      Sum | Start               | tag   | Node         | User   | OS    | Version                             |\n",
      "|------------------------------------------+----------+----------+----------+---------------------+-------+--------------+--------+-------+-------------------------------------|\n",
      "| a                                        | ok       |   42.183 |   42.183 | 2020-11-17 23:05:56 |       | 0098bf7245f6 | collab | Linux | #1 SMP Thu Jul 23 08:00:38 PDT 2020 |\n",
      "| <timed exec>/<module>                    | ok       |    0.013 |    0.022 | 2020-11-17 23:12:35 |       | 0098bf7245f6 | collab | Linux | #1 SMP Thu Jul 23 08:00:38 PDT 2020 |\n",
      "| <ipython-input-49-75d1b9eabf66>/<module> | ok       |   21.819 |   21.819 | 2020-11-18 00:47:29 |       | 0098bf7245f6 | collab | Linux | #1 SMP Thu Jul 23 08:00:38 PDT 2020 |\n",
      "| <ipython-input-54-63aebd3d5c69>/<module> | ok       |  560.988 |  560.988 | 2020-11-18 01:08:05 |       | 0098bf7245f6 | collab | Linux | #1 SMP Thu Jul 23 08:00:38 PDT 2020 |\n",
      "| <ipython-input-57-8e6fba668515>/<module> | ok       |  256.255 |  256.255 | 2020-11-18 01:26:55 |       | 0098bf7245f6 | collab | Linux | #1 SMP Thu Jul 23 08:00:38 PDT 2020 |\n",
      "| <ipython-input-63-4b4965de8094>/<module> | ok       | 1858.6   | 1858.6   | 2020-11-18 01:40:39 |       | 0098bf7245f6 | collab | Linux | #1 SMP Thu Jul 23 08:00:38 PDT 2020 |\n",
      "| <ipython-input-64-32e2baea0ad0>/<module> | ok       |   20.115 |   20.115 | 2020-11-18 02:11:37 |       | 0098bf7245f6 | collab | Linux | #1 SMP Thu Jul 23 08:00:38 PDT 2020 |\n",
      "| <ipython-input-71-e110dd3da27e>/<module> | ok       |   89.069 |   89.069 | 2020-11-18 02:32:49 |       | 0098bf7245f6 | collab | Linux | #1 SMP Thu Jul 23 08:00:38 PDT 2020 |\n",
      "| <ipython-input-72-977da1b6c1f8>/<module> | ok       |    8.675 |    8.675 | 2020-11-18 02:34:19 |       | 0098bf7245f6 | collab | Linux | #1 SMP Thu Jul 23 08:00:38 PDT 2020 |\n",
      "+------------------------------------------+----------+----------+----------+---------------------+-------+--------------+--------+-------+-------------------------------------+\n",
      "\n",
      "# csv,timer,status,time,sum,start,tag,uname.node,user,uname.system,platform.version\n",
      "# csv,a,ok,42.183,42.183,2020-11-17 23:05:56,,0098bf7245f6,collab,Linux,#1 SMP Thu Jul 23 08:00:38 PDT 2020\n",
      "# csv,<timed exec>/<module>,ok,0.013,0.022,2020-11-17 23:12:35,,0098bf7245f6,collab,Linux,#1 SMP Thu Jul 23 08:00:38 PDT 2020\n",
      "# csv,<ipython-input-49-75d1b9eabf66>/<module>,ok,21.819,21.819,2020-11-18 00:47:29,,0098bf7245f6,collab,Linux,#1 SMP Thu Jul 23 08:00:38 PDT 2020\n",
      "# csv,<ipython-input-54-63aebd3d5c69>/<module>,ok,560.988,560.988,2020-11-18 01:08:05,,0098bf7245f6,collab,Linux,#1 SMP Thu Jul 23 08:00:38 PDT 2020\n",
      "# csv,<ipython-input-57-8e6fba668515>/<module>,ok,256.255,256.255,2020-11-18 01:26:55,,0098bf7245f6,collab,Linux,#1 SMP Thu Jul 23 08:00:38 PDT 2020\n",
      "# csv,<ipython-input-63-4b4965de8094>/<module>,ok,1858.598,1858.598,2020-11-18 01:40:39,,0098bf7245f6,collab,Linux,#1 SMP Thu Jul 23 08:00:38 PDT 2020\n",
      "# csv,<ipython-input-64-32e2baea0ad0>/<module>,ok,20.115,20.115,2020-11-18 02:11:37,,0098bf7245f6,collab,Linux,#1 SMP Thu Jul 23 08:00:38 PDT 2020\n",
      "# csv,<ipython-input-71-e110dd3da27e>/<module>,ok,89.069,89.069,2020-11-18 02:32:49,,0098bf7245f6,collab,Linux,#1 SMP Thu Jul 23 08:00:38 PDT 2020\n",
      "# csv,<ipython-input-72-977da1b6c1f8>/<module>,ok,8.675,8.675,2020-11-18 02:34:19,,0098bf7245f6,collab,Linux,#1 SMP Thu Jul 23 08:00:38 PDT 2020\n",
      "\n"
     ]
    }
   ],
   "source": [
    "Benchmark.print()"
   ]
  },
  {
   "cell_type": "code",
   "execution_count": 74,
   "metadata": {
    "colab": {
     "base_uri": "https://localhost:8080/",
     "height": 210
    },
    "id": "t9QtZeAVzo4l",
    "outputId": "034b25d1-edfe-4db1-b69d-6f240a4f7d5c"
   },
   "outputs": [
    {
     "data": {
      "text/html": [
       "<div>\n",
       "<style scoped>\n",
       "    .dataframe tbody tr th:only-of-type {\n",
       "        vertical-align: middle;\n",
       "    }\n",
       "\n",
       "    .dataframe tbody tr th {\n",
       "        vertical-align: top;\n",
       "    }\n",
       "\n",
       "    .dataframe thead th {\n",
       "        text-align: right;\n",
       "    }\n",
       "</style>\n",
       "<table border=\"1\" class=\"dataframe\">\n",
       "  <thead>\n",
       "    <tr style=\"text-align: right;\">\n",
       "      <th></th>\n",
       "      <th>Model description</th>\n",
       "      <th>Best Params</th>\n",
       "      <th>Best RMSE Score</th>\n",
       "      <th>Train RMSE</th>\n",
       "      <th>Test RMSE</th>\n",
       "      <th>Train Time</th>\n",
       "      <th>Test Time</th>\n",
       "    </tr>\n",
       "  </thead>\n",
       "  <tbody>\n",
       "    <tr>\n",
       "      <th>0</th>\n",
       "      <td>SKLearn Linear Regression Best Model</td>\n",
       "      <td>{'linRegression__fit_intercept': True, 'linRegression__n_jobs': -1}</td>\n",
       "      <td>1.890</td>\n",
       "      <td>1.847</td>\n",
       "      <td>1.889</td>\n",
       "      <td>228.275228</td>\n",
       "      <td>27.941794</td>\n",
       "    </tr>\n",
       "    <tr>\n",
       "      <th>1</th>\n",
       "      <td>SKLearn Xgboost Regressor Best Model-3</td>\n",
       "      <td>{'max_depth': 8, 'eta': 0.01, 'silent': 1, 'objective': 'reg:linear', 'eval_metric': 'rmse', 'subsample': 0.6, 'colsample_bytree': 0.8, 'alpha': 0.01, 'num_leaves': 40, 'random_state': 42}</td>\n",
       "      <td>1.619</td>\n",
       "      <td>1.394</td>\n",
       "      <td>1.802</td>\n",
       "      <td>1858.585699</td>\n",
       "      <td>4.764785</td>\n",
       "    </tr>\n",
       "    <tr>\n",
       "      <th>2</th>\n",
       "      <td>LightGBM Regressor Best Model-3</td>\n",
       "      <td>{'objective': 'regression', 'metric': 'rmse', 'n_estimators': 10000, 'early_stopping_rounds': 800, 'min_data_in_leaf': 100, 'num_leaves': 150, 'learning_rate': 0.01, 'bagging_fraction': 0.8, 'feature_fraction': 0.85, 'bagging_seed': 0, 'colsample_bytree': 0.9, 'use_best_model': True}</td>\n",
       "      <td>1.621</td>\n",
       "      <td>1.439</td>\n",
       "      <td>1.809</td>\n",
       "      <td>89.058688</td>\n",
       "      <td>2.028026</td>\n",
       "    </tr>\n",
       "  </tbody>\n",
       "</table>\n",
       "</div>"
      ],
      "text/plain": [
       "                        Model description  ...  Test Time\n",
       "0  SKLearn Linear Regression Best Model    ...  27.941794\n",
       "1  SKLearn Xgboost Regressor Best Model-3  ...  4.764785 \n",
       "2  LightGBM Regressor Best Model-3         ...  2.028026 \n",
       "\n",
       "[3 rows x 7 columns]"
      ]
     },
     "execution_count": 74,
     "metadata": {
      "tags": []
     },
     "output_type": "execute_result"
    }
   ],
   "source": [
    "results"
   ]
  },
  {
   "cell_type": "markdown",
   "metadata": {
    "id": "aUZCdq1Nzyp8"
   },
   "source": [
    "### Lasso Regressor ###\n",
    "\n",
    "*   Prepare the dataset by calling the Pipeline class\n",
    "*   Pass two parameters: full_pipeline, Lasso() to prepare the model \n",
    "\n"
   ]
  },
  {
   "cell_type": "markdown",
   "metadata": {},
   "source": [
    "#### Prepare Model Pipeline ####"
   ]
  },
  {
   "cell_type": "code",
   "execution_count": 75,
   "metadata": {
    "colab": {
     "base_uri": "https://localhost:8080/"
    },
    "id": "Q2mz77ktz01j",
    "outputId": "db333589-3056-408f-9c01-321176c4d82c"
   },
   "outputs": [
    {
     "name": "stdout",
     "output_type": "stream",
     "text": [
      "prepare model...\n"
     ]
    }
   ],
   "source": [
    "from sklearn.linear_model import Lasso\n",
    "print(\"prepare model...\")\n",
    "prepare_select_and_predict_pipeline = Pipeline([\n",
    "    ('preparation', full_pipeline),\n",
    "    (\"lassoregress\", Lasso())\n",
    "])"
   ]
  },
  {
   "cell_type": "markdown",
   "metadata": {},
   "source": [
    "#### Grid Search ####"
   ]
  },
  {
   "cell_type": "markdown",
   "metadata": {
    "id": "QHQhsFhsPjoQ"
   },
   "source": [
    "Specify the Grid Parameters and pass the grid parameters values into GridSearchCV class and train the model."
   ]
  },
  {
   "cell_type": "code",
   "execution_count": 76,
   "metadata": {
    "colab": {
     "base_uri": "https://localhost:8080/"
    },
    "id": "oyc3givr0Kx0",
    "outputId": "81285a62-6e07-46e1-8ed6-49f22be71d39"
   },
   "outputs": [
    {
     "name": "stdout",
     "output_type": "stream",
     "text": [
      "Fitting 3 folds for each of 3 candidates, totalling 9 fits\n"
     ]
    },
    {
     "name": "stderr",
     "output_type": "stream",
     "text": [
      "[Parallel(n_jobs=-1)]: Using backend LokyBackend with 4 concurrent workers.\n",
      "[Parallel(n_jobs=-1)]: Done   7 out of   9 | elapsed:  9.2min remaining:  2.6min\n",
      "[Parallel(n_jobs=-1)]: Done   9 out of   9 | elapsed: 10.7min finished\n"
     ]
    }
   ],
   "source": [
    "Benchmark.Start()\n",
    "from sklearn.model_selection import GridSearchCV\n",
    "param_grid = {\n",
    "    'lassoregress__alpha'             : [0.001, 0.01, 0.1],\n",
    "    'lassoregress__max_iter'          : [1000]\n",
    "}\n",
    "grid_search_prep_LS = GridSearchCV(prepare_select_and_predict_pipeline, param_grid, cv=3,\n",
    "                                scoring='neg_mean_squared_error', verbose=2, n_jobs=-1)\n",
    "grid_search_prep_LS.fit(X_train_split, y_train_split)\n",
    "Benchmark.Stop()"
   ]
  },
  {
   "cell_type": "markdown",
   "metadata": {},
   "source": [
    "#### Print Grid Search results ####"
   ]
  },
  {
   "cell_type": "code",
   "execution_count": 77,
   "metadata": {
    "colab": {
     "base_uri": "https://localhost:8080/",
     "height": 315
    },
    "id": "CHbYaCsC0Puc",
    "outputId": "15ad3728-1974-4291-9483-c5cfbca610c0"
   },
   "outputs": [
    {
     "data": {
      "text/html": [
       "<div>\n",
       "<style scoped>\n",
       "    .dataframe tbody tr th:only-of-type {\n",
       "        vertical-align: middle;\n",
       "    }\n",
       "\n",
       "    .dataframe tbody tr th {\n",
       "        vertical-align: top;\n",
       "    }\n",
       "\n",
       "    .dataframe thead th {\n",
       "        text-align: right;\n",
       "    }\n",
       "</style>\n",
       "<table border=\"1\" class=\"dataframe\">\n",
       "  <thead>\n",
       "    <tr style=\"text-align: right;\">\n",
       "      <th></th>\n",
       "      <th>mean_fit_time</th>\n",
       "      <th>std_fit_time</th>\n",
       "      <th>mean_score_time</th>\n",
       "      <th>std_score_time</th>\n",
       "      <th>param_lassoregress__alpha</th>\n",
       "      <th>param_lassoregress__max_iter</th>\n",
       "      <th>params</th>\n",
       "      <th>split0_test_score</th>\n",
       "      <th>split1_test_score</th>\n",
       "      <th>split2_test_score</th>\n",
       "      <th>mean_test_score</th>\n",
       "      <th>std_test_score</th>\n",
       "      <th>rank_test_score</th>\n",
       "    </tr>\n",
       "  </thead>\n",
       "  <tbody>\n",
       "    <tr>\n",
       "      <th>0</th>\n",
       "      <td>222.707062</td>\n",
       "      <td>4.108486</td>\n",
       "      <td>49.827049</td>\n",
       "      <td>0.482822</td>\n",
       "      <td>0.001</td>\n",
       "      <td>1000</td>\n",
       "      <td>{'lassoregress__alpha': 0.001, 'lassoregress__max_iter': 1000}</td>\n",
       "      <td>-3.436067</td>\n",
       "      <td>-3.478565</td>\n",
       "      <td>-3.480194</td>\n",
       "      <td>-3.464942</td>\n",
       "      <td>0.020428</td>\n",
       "      <td>1</td>\n",
       "    </tr>\n",
       "    <tr>\n",
       "      <th>1</th>\n",
       "      <td>202.579769</td>\n",
       "      <td>15.606144</td>\n",
       "      <td>44.994988</td>\n",
       "      <td>5.358715</td>\n",
       "      <td>0.01</td>\n",
       "      <td>1000</td>\n",
       "      <td>{'lassoregress__alpha': 0.01, 'lassoregress__max_iter': 1000}</td>\n",
       "      <td>-3.445911</td>\n",
       "      <td>-3.479849</td>\n",
       "      <td>-3.484387</td>\n",
       "      <td>-3.470049</td>\n",
       "      <td>0.017169</td>\n",
       "      <td>2</td>\n",
       "    </tr>\n",
       "    <tr>\n",
       "      <th>2</th>\n",
       "      <td>147.028315</td>\n",
       "      <td>39.954368</td>\n",
       "      <td>38.410511</td>\n",
       "      <td>9.678817</td>\n",
       "      <td>0.1</td>\n",
       "      <td>1000</td>\n",
       "      <td>{'lassoregress__alpha': 0.1, 'lassoregress__max_iter': 1000}</td>\n",
       "      <td>-4.025966</td>\n",
       "      <td>-4.041743</td>\n",
       "      <td>-4.047191</td>\n",
       "      <td>-4.038300</td>\n",
       "      <td>0.009000</td>\n",
       "      <td>3</td>\n",
       "    </tr>\n",
       "  </tbody>\n",
       "</table>\n",
       "</div>"
      ],
      "text/plain": [
       "   mean_fit_time  std_fit_time  ...  std_test_score  rank_test_score\n",
       "0  222.707062     4.108486      ...  0.020428        1              \n",
       "1  202.579769     15.606144     ...  0.017169        2              \n",
       "2  147.028315     39.954368     ...  0.009000        3              \n",
       "\n",
       "[3 rows x 13 columns]"
      ]
     },
     "execution_count": 77,
     "metadata": {
      "tags": []
     },
     "output_type": "execute_result"
    }
   ],
   "source": [
    "pd.DataFrame(grid_search_prep_LS.cv_results_)"
   ]
  },
  {
   "cell_type": "markdown",
   "metadata": {
    "id": "XqJvUX_Rz9az"
   },
   "source": [
    "#### Predict using best estimator and print results ####"
   ]
  },
  {
   "cell_type": "code",
   "execution_count": 78,
   "metadata": {
    "id": "U9LzeNTv0Adv"
   },
   "outputs": [],
   "source": [
    "Benchmark.Start()\n",
    "import time\n",
    "start = time.time()\n",
    "grid_search_prep_LS.best_estimator_.fit(X_train_split,y_train_split)\n",
    "y_train_pred = grid_search_prep_LS.best_estimator_.predict(X_train_split)\n",
    "train_time = time.time() - start\n",
    "start = time.time()\n",
    "y_test_pred = grid_search_prep_LS.best_estimator_.predict(X_test_split)\n",
    "test_time = time.time() - start\n",
    "# add the result of this experiment ot the log book\n",
    "results.loc[len(results)] = [\"SKLearn Lasso Regression Best Model\",\n",
    "                            grid_search_prep_LS.best_params_,\n",
    "                            np.round(np.sqrt(-1 * grid_search_prep_LS.best_score_), 3),\n",
    "                            np.round(np.sqrt(((y_train_split-y_train_pred)**2).mean()), 3),\n",
    "                            np.round(np.sqrt(((y_test_split-y_test_pred)**2).mean()), 3),\n",
    "                            train_time,\n",
    "                            test_time]\n",
    "Benchmark.Stop()"
   ]
  },
  {
   "cell_type": "markdown",
   "metadata": {
    "id": "LYzMt_iV6dZ1"
   },
   "source": [
    "### Ridge Model ###\n",
    "\n",
    "*   Prepare the dataset by calling the Pipeline class\n",
    "*   Pass two parameters: full_pipeline, Ridge() to prepare the model "
   ]
  },
  {
   "cell_type": "markdown",
   "metadata": {},
   "source": [
    "#### Prepare Model Pipeline ####"
   ]
  },
  {
   "cell_type": "code",
   "execution_count": 79,
   "metadata": {
    "colab": {
     "base_uri": "https://localhost:8080/"
    },
    "id": "LXo3xYe_6g_o",
    "outputId": "dfedb4fc-f023-4d27-c484-039df8f0e4da"
   },
   "outputs": [
    {
     "name": "stdout",
     "output_type": "stream",
     "text": [
      "prepare model...\n"
     ]
    }
   ],
   "source": [
    "from sklearn.linear_model import Ridge\n",
    "print(\"prepare model...\")\n",
    "prepare_select_and_predict_pipeline = Pipeline([\n",
    "    ('preparation', full_pipeline),\n",
    "    (\"ridgeregress\", Ridge())\n",
    "])"
   ]
  },
  {
   "cell_type": "markdown",
   "metadata": {},
   "source": [
    "#### Grid Search ####"
   ]
  },
  {
   "cell_type": "markdown",
   "metadata": {
    "id": "A4r-J_pgdXoK"
   },
   "source": [
    "Specify the Grid Parameters and pass the grid parameters values into GridSearchCV class and train the model."
   ]
  },
  {
   "cell_type": "code",
   "execution_count": 80,
   "metadata": {
    "colab": {
     "base_uri": "https://localhost:8080/"
    },
    "id": "gzPSOUh56o0x",
    "outputId": "b96ab447-56dd-406d-a6be-6b79fe345c94"
   },
   "outputs": [
    {
     "name": "stdout",
     "output_type": "stream",
     "text": [
      "Fitting 3 folds for each of 1 candidates, totalling 3 fits\n"
     ]
    },
    {
     "name": "stderr",
     "output_type": "stream",
     "text": [
      "[Parallel(n_jobs=-1)]: Using backend LokyBackend with 4 concurrent workers.\n",
      "[Parallel(n_jobs=-1)]: Done   3 out of   3 | elapsed:  2.4min finished\n"
     ]
    }
   ],
   "source": [
    "Benchmark.Start()\n",
    "from sklearn.model_selection import GridSearchCV\n",
    "param_grid = {\n",
    "#    'lassoregress__fit_intercept'     : [True,False],\n",
    "    'ridgeregress__alpha'             : [0.1],\n",
    "    'ridgeregress__max_iter'          : [1000],\n",
    "    'ridgeregress__solver'            : ['auto']\n",
    "}\n",
    "grid_search_prep_RR = GridSearchCV(prepare_select_and_predict_pipeline, param_grid, cv=3,\n",
    "                                scoring='neg_mean_squared_error', verbose=2, n_jobs=-1)\n",
    "grid_search_prep_RR.fit(X_train_split, y_train_split)\n",
    "Benchmark.Stop()"
   ]
  },
  {
   "cell_type": "markdown",
   "metadata": {},
   "source": [
    "#### Print Grid Search results ####"
   ]
  },
  {
   "cell_type": "code",
   "execution_count": 81,
   "metadata": {
    "colab": {
     "base_uri": "https://localhost:8080/",
     "height": 185
    },
    "id": "9myu8WbQ6tZQ",
    "outputId": "28698e78-a5b6-4604-8488-d216029f6b7a"
   },
   "outputs": [
    {
     "data": {
      "text/html": [
       "<div>\n",
       "<style scoped>\n",
       "    .dataframe tbody tr th:only-of-type {\n",
       "        vertical-align: middle;\n",
       "    }\n",
       "\n",
       "    .dataframe tbody tr th {\n",
       "        vertical-align: top;\n",
       "    }\n",
       "\n",
       "    .dataframe thead th {\n",
       "        text-align: right;\n",
       "    }\n",
       "</style>\n",
       "<table border=\"1\" class=\"dataframe\">\n",
       "  <thead>\n",
       "    <tr style=\"text-align: right;\">\n",
       "      <th></th>\n",
       "      <th>mean_fit_time</th>\n",
       "      <th>std_fit_time</th>\n",
       "      <th>mean_score_time</th>\n",
       "      <th>std_score_time</th>\n",
       "      <th>param_ridgeregress__alpha</th>\n",
       "      <th>param_ridgeregress__max_iter</th>\n",
       "      <th>param_ridgeregress__solver</th>\n",
       "      <th>params</th>\n",
       "      <th>split0_test_score</th>\n",
       "      <th>split1_test_score</th>\n",
       "      <th>split2_test_score</th>\n",
       "      <th>mean_test_score</th>\n",
       "      <th>std_test_score</th>\n",
       "      <th>rank_test_score</th>\n",
       "    </tr>\n",
       "  </thead>\n",
       "  <tbody>\n",
       "    <tr>\n",
       "      <th>0</th>\n",
       "      <td>73.435792</td>\n",
       "      <td>6.462965</td>\n",
       "      <td>37.014372</td>\n",
       "      <td>4.069975</td>\n",
       "      <td>0.1</td>\n",
       "      <td>1000</td>\n",
       "      <td>auto</td>\n",
       "      <td>{'ridgeregress__alpha': 0.1, 'ridgeregress__max_iter': 1000, 'ridgeregress__solver': 'auto'}</td>\n",
       "      <td>-3.454257</td>\n",
       "      <td>-3.505532</td>\n",
       "      <td>-3.458525</td>\n",
       "      <td>-3.472771</td>\n",
       "      <td>0.023231</td>\n",
       "      <td>1</td>\n",
       "    </tr>\n",
       "  </tbody>\n",
       "</table>\n",
       "</div>"
      ],
      "text/plain": [
       "   mean_fit_time  std_fit_time  ...  std_test_score  rank_test_score\n",
       "0  73.435792      6.462965      ...  0.023231        1              \n",
       "\n",
       "[1 rows x 14 columns]"
      ]
     },
     "execution_count": 81,
     "metadata": {
      "tags": []
     },
     "output_type": "execute_result"
    }
   ],
   "source": [
    "pd.DataFrame(grid_search_prep_RR.cv_results_)"
   ]
  },
  {
   "cell_type": "markdown",
   "metadata": {
    "id": "XqJvUX_Rz9az"
   },
   "source": [
    "#### Predict using best estimator and print results ####"
   ]
  },
  {
   "cell_type": "code",
   "execution_count": 82,
   "metadata": {
    "id": "A559_4w16xQR"
   },
   "outputs": [],
   "source": [
    "Benchmark.Start()\n",
    "import time\n",
    "start = time.time()\n",
    "grid_search_prep_RR.best_estimator_.fit(X_train_split,y_train_split)\n",
    "y_train_pred = grid_search_prep_RR.best_estimator_.predict(X_train_split)\n",
    "train_time = time.time() - start\n",
    "start = time.time()\n",
    "y_test_pred = grid_search_prep_RR.best_estimator_.predict(X_test_split)\n",
    "test_time = time.time() - start\n",
    "# add the result of this experiment ot the log book\n",
    "results.loc[len(results)] = [\"SKLearn Ridge Regression Best Model-3\",\n",
    "                            grid_search_prep_RR.best_params_,\n",
    "                            np.round(np.sqrt(-1 * grid_search_prep_RR.best_score_), 3),\n",
    "                            np.round(np.sqrt(((y_train_split-y_train_pred)**2).mean()), 3),\n",
    "                            np.round(np.sqrt(((y_test_split-y_test_pred)**2).mean()), 3),\n",
    "                            train_time,\n",
    "                            test_time]\n",
    "Benchmark.Stop()"
   ]
  },
  {
   "cell_type": "code",
   "execution_count": 83,
   "metadata": {
    "colab": {
     "base_uri": "https://localhost:8080/",
     "height": 306
    },
    "id": "yYQHbvLT9QN0",
    "outputId": "b3b83db8-1b82-48e3-b2f3-654d158a7a21"
   },
   "outputs": [
    {
     "data": {
      "text/html": [
       "<div>\n",
       "<style scoped>\n",
       "    .dataframe tbody tr th:only-of-type {\n",
       "        vertical-align: middle;\n",
       "    }\n",
       "\n",
       "    .dataframe tbody tr th {\n",
       "        vertical-align: top;\n",
       "    }\n",
       "\n",
       "    .dataframe thead th {\n",
       "        text-align: right;\n",
       "    }\n",
       "</style>\n",
       "<table border=\"1\" class=\"dataframe\">\n",
       "  <thead>\n",
       "    <tr style=\"text-align: right;\">\n",
       "      <th></th>\n",
       "      <th>Model description</th>\n",
       "      <th>Best Params</th>\n",
       "      <th>Best RMSE Score</th>\n",
       "      <th>Train RMSE</th>\n",
       "      <th>Test RMSE</th>\n",
       "      <th>Train Time</th>\n",
       "      <th>Test Time</th>\n",
       "    </tr>\n",
       "  </thead>\n",
       "  <tbody>\n",
       "    <tr>\n",
       "      <th>0</th>\n",
       "      <td>SKLearn Linear Regression Best Model</td>\n",
       "      <td>{'linRegression__fit_intercept': True, 'linRegression__n_jobs': -1}</td>\n",
       "      <td>1.890</td>\n",
       "      <td>1.847</td>\n",
       "      <td>1.889</td>\n",
       "      <td>228.275228</td>\n",
       "      <td>27.941794</td>\n",
       "    </tr>\n",
       "    <tr>\n",
       "      <th>1</th>\n",
       "      <td>SKLearn Xgboost Regressor Best Model-3</td>\n",
       "      <td>{'max_depth': 8, 'eta': 0.01, 'silent': 1, 'objective': 'reg:linear', 'eval_metric': 'rmse', 'subsample': 0.6, 'colsample_bytree': 0.8, 'alpha': 0.01, 'num_leaves': 40, 'random_state': 42}</td>\n",
       "      <td>1.619</td>\n",
       "      <td>1.394</td>\n",
       "      <td>1.802</td>\n",
       "      <td>1858.585699</td>\n",
       "      <td>4.764785</td>\n",
       "    </tr>\n",
       "    <tr>\n",
       "      <th>2</th>\n",
       "      <td>LightGBM Regressor Best Model-3</td>\n",
       "      <td>{'objective': 'regression', 'metric': 'rmse', 'n_estimators': 10000, 'early_stopping_rounds': 800, 'min_data_in_leaf': 100, 'num_leaves': 150, 'learning_rate': 0.01, 'bagging_fraction': 0.8, 'feature_fraction': 0.85, 'bagging_seed': 0, 'colsample_bytree': 0.9, 'use_best_model': True}</td>\n",
       "      <td>1.621</td>\n",
       "      <td>1.439</td>\n",
       "      <td>1.809</td>\n",
       "      <td>89.058688</td>\n",
       "      <td>2.028026</td>\n",
       "    </tr>\n",
       "    <tr>\n",
       "      <th>3</th>\n",
       "      <td>SKLearn Lasso Regression Best Model</td>\n",
       "      <td>{'lassoregress__alpha': 0.001, 'lassoregress__max_iter': 1000}</td>\n",
       "      <td>1.861</td>\n",
       "      <td>1.850</td>\n",
       "      <td>1.882</td>\n",
       "      <td>276.346065</td>\n",
       "      <td>29.480201</td>\n",
       "    </tr>\n",
       "    <tr>\n",
       "      <th>4</th>\n",
       "      <td>SKLearn Ridge Regression Best Model-3</td>\n",
       "      <td>{'ridgeregress__alpha': 0.1, 'ridgeregress__max_iter': 1000, 'ridgeregress__solver': 'auto'}</td>\n",
       "      <td>1.864</td>\n",
       "      <td>1.847</td>\n",
       "      <td>1.890</td>\n",
       "      <td>226.462216</td>\n",
       "      <td>28.390824</td>\n",
       "    </tr>\n",
       "  </tbody>\n",
       "</table>\n",
       "</div>"
      ],
      "text/plain": [
       "                        Model description  ...  Test Time\n",
       "0  SKLearn Linear Regression Best Model    ...  27.941794\n",
       "1  SKLearn Xgboost Regressor Best Model-3  ...  4.764785 \n",
       "2  LightGBM Regressor Best Model-3         ...  2.028026 \n",
       "3  SKLearn Lasso Regression Best Model     ...  29.480201\n",
       "4  SKLearn Ridge Regression Best Model-3   ...  28.390824\n",
       "\n",
       "[5 rows x 7 columns]"
      ]
     },
     "execution_count": 83,
     "metadata": {
      "tags": []
     },
     "output_type": "execute_result"
    }
   ],
   "source": [
    "results"
   ]
  },
  {
   "cell_type": "markdown",
   "metadata": {
    "id": "Ceur6NUMdg-H"
   },
   "source": [
    "Overall, **XGBoost** had the best performance compared to other models. "
   ]
  },
  {
   "cell_type": "code",
   "execution_count": 84,
   "metadata": {
    "colab": {
     "base_uri": "https://localhost:8080/"
    },
    "id": "DGOTaxDCbZj7",
    "outputId": "21eee73d-479a-4454-fc82-94b5d7bbaaf0"
   },
   "outputs": [
    {
     "name": "stdout",
     "output_type": "stream",
     "text": [
      "\n",
      "+---------------------+------------------------------------------------------------------+\n",
      "| Attribute           | Value                                                            |\n",
      "|---------------------+------------------------------------------------------------------|\n",
      "| BUG_REPORT_URL      | \"https://bugs.launchpad.net/ubuntu/\"                             |\n",
      "| DISTRIB_CODENAME    | bionic                                                           |\n",
      "| DISTRIB_DESCRIPTION | \"Ubuntu 18.04.5 LTS\"                                             |\n",
      "| DISTRIB_ID          | Ubuntu                                                           |\n",
      "| DISTRIB_RELEASE     | 18.04                                                            |\n",
      "| HOME_URL            | \"https://www.ubuntu.com/\"                                        |\n",
      "| ID                  | ubuntu                                                           |\n",
      "| ID_LIKE             | debian                                                           |\n",
      "| NAME                | \"Ubuntu\"                                                         |\n",
      "| PRETTY_NAME         | \"Ubuntu 18.04.5 LTS\"                                             |\n",
      "| PRIVACY_POLICY_URL  | \"https://www.ubuntu.com/legal/terms-and-policies/privacy-policy\" |\n",
      "| SUPPORT_URL         | \"https://help.ubuntu.com/\"                                       |\n",
      "| UBUNTU_CODENAME     | bionic                                                           |\n",
      "| VERSION             | \"18.04.5 LTS (Bionic Beaver)\"                                    |\n",
      "| VERSION_CODENAME    | bionic                                                           |\n",
      "| VERSION_ID          | \"18.04\"                                                          |\n",
      "| cpu_count           | 4                                                                |\n",
      "| mem.active          | 11.5 GiB                                                         |\n",
      "| mem.available       | 13.6 GiB                                                         |\n",
      "| mem.free            | 10.4 GiB                                                         |\n",
      "| mem.inactive        | 3.2 GiB                                                          |\n",
      "| mem.percent         | 46.7 %                                                           |\n",
      "| mem.total           | 25.5 GiB                                                         |\n",
      "| mem.used            | 14.5 GiB                                                         |\n",
      "| platform.version    | #1 SMP Thu Jul 23 08:00:38 PDT 2020                              |\n",
      "| python              | 3.6.9 (default, Oct  8 2020, 12:12:24)                           |\n",
      "|                     | [GCC 8.4.0]                                                      |\n",
      "| python.pip          | 19.3.1                                                           |\n",
      "| python.version      | 3.6.9                                                            |\n",
      "| sys.platform        | linux                                                            |\n",
      "| uname.machine       | x86_64                                                           |\n",
      "| uname.node          | 0098bf7245f6                                                     |\n",
      "| uname.processor     | x86_64                                                           |\n",
      "| uname.release       | 4.19.112+                                                        |\n",
      "| uname.system        | Linux                                                            |\n",
      "| uname.version       | #1 SMP Thu Jul 23 08:00:38 PDT 2020                              |\n",
      "| user                | collab                                                           |\n",
      "+---------------------+------------------------------------------------------------------+\n",
      "\n",
      "+------------------------------------------+----------+----------+----------+---------------------+-------+--------------+--------+-------+-------------------------------------+\n",
      "| Name                                     | Status   |     Time |      Sum | Start               | tag   | Node         | User   | OS    | Version                             |\n",
      "|------------------------------------------+----------+----------+----------+---------------------+-------+--------------+--------+-------+-------------------------------------|\n",
      "| a                                        | ok       |   42.183 |   42.183 | 2020-11-17 23:05:56 |       | 0098bf7245f6 | collab | Linux | #1 SMP Thu Jul 23 08:00:38 PDT 2020 |\n",
      "| <timed exec>/<module>                    | ok       |    0.013 |    0.022 | 2020-11-17 23:12:35 |       | 0098bf7245f6 | collab | Linux | #1 SMP Thu Jul 23 08:00:38 PDT 2020 |\n",
      "| <ipython-input-49-75d1b9eabf66>/<module> | ok       |   21.819 |   21.819 | 2020-11-18 00:47:29 |       | 0098bf7245f6 | collab | Linux | #1 SMP Thu Jul 23 08:00:38 PDT 2020 |\n",
      "| <ipython-input-54-63aebd3d5c69>/<module> | ok       |  560.988 |  560.988 | 2020-11-18 01:08:05 |       | 0098bf7245f6 | collab | Linux | #1 SMP Thu Jul 23 08:00:38 PDT 2020 |\n",
      "| <ipython-input-57-8e6fba668515>/<module> | ok       |  256.255 |  256.255 | 2020-11-18 01:26:55 |       | 0098bf7245f6 | collab | Linux | #1 SMP Thu Jul 23 08:00:38 PDT 2020 |\n",
      "| <ipython-input-63-4b4965de8094>/<module> | ok       | 1858.6   | 1858.6   | 2020-11-18 01:40:39 |       | 0098bf7245f6 | collab | Linux | #1 SMP Thu Jul 23 08:00:38 PDT 2020 |\n",
      "| <ipython-input-64-32e2baea0ad0>/<module> | ok       |   20.115 |   20.115 | 2020-11-18 02:11:37 |       | 0098bf7245f6 | collab | Linux | #1 SMP Thu Jul 23 08:00:38 PDT 2020 |\n",
      "| <ipython-input-71-e110dd3da27e>/<module> | ok       |   89.069 |   89.069 | 2020-11-18 02:32:49 |       | 0098bf7245f6 | collab | Linux | #1 SMP Thu Jul 23 08:00:38 PDT 2020 |\n",
      "| <ipython-input-72-977da1b6c1f8>/<module> | ok       |    8.675 |    8.675 | 2020-11-18 02:34:19 |       | 0098bf7245f6 | collab | Linux | #1 SMP Thu Jul 23 08:00:38 PDT 2020 |\n",
      "| <ipython-input-76-de51f2afcdc3>/<module> | ok       |  811.77  |  811.77  | 2020-11-18 02:49:02 |       | 0098bf7245f6 | collab | Linux | #1 SMP Thu Jul 23 08:00:38 PDT 2020 |\n",
      "| <ipython-input-78-5721b9e62519>/<module> | ok       |  305.861 |  305.861 | 2020-11-18 03:02:34 |       | 0098bf7245f6 | collab | Linux | #1 SMP Thu Jul 23 08:00:38 PDT 2020 |\n",
      "| <ipython-input-80-e6a06a5d894a>/<module> | ok       |  255.241 |  255.241 | 2020-11-18 03:22:29 |       | 0098bf7245f6 | collab | Linux | #1 SMP Thu Jul 23 08:00:38 PDT 2020 |\n",
      "| <ipython-input-82-3608c6502f55>/<module> | ok       |  254.887 |  254.887 | 2020-11-18 03:26:45 |       | 0098bf7245f6 | collab | Linux | #1 SMP Thu Jul 23 08:00:38 PDT 2020 |\n",
      "+------------------------------------------+----------+----------+----------+---------------------+-------+--------------+--------+-------+-------------------------------------+\n",
      "\n",
      "# csv,timer,status,time,sum,start,tag,uname.node,user,uname.system,platform.version\n",
      "# csv,a,ok,42.183,42.183,2020-11-17 23:05:56,,0098bf7245f6,collab,Linux,#1 SMP Thu Jul 23 08:00:38 PDT 2020\n",
      "# csv,<timed exec>/<module>,ok,0.013,0.022,2020-11-17 23:12:35,,0098bf7245f6,collab,Linux,#1 SMP Thu Jul 23 08:00:38 PDT 2020\n",
      "# csv,<ipython-input-49-75d1b9eabf66>/<module>,ok,21.819,21.819,2020-11-18 00:47:29,,0098bf7245f6,collab,Linux,#1 SMP Thu Jul 23 08:00:38 PDT 2020\n",
      "# csv,<ipython-input-54-63aebd3d5c69>/<module>,ok,560.988,560.988,2020-11-18 01:08:05,,0098bf7245f6,collab,Linux,#1 SMP Thu Jul 23 08:00:38 PDT 2020\n",
      "# csv,<ipython-input-57-8e6fba668515>/<module>,ok,256.255,256.255,2020-11-18 01:26:55,,0098bf7245f6,collab,Linux,#1 SMP Thu Jul 23 08:00:38 PDT 2020\n",
      "# csv,<ipython-input-63-4b4965de8094>/<module>,ok,1858.598,1858.598,2020-11-18 01:40:39,,0098bf7245f6,collab,Linux,#1 SMP Thu Jul 23 08:00:38 PDT 2020\n",
      "# csv,<ipython-input-64-32e2baea0ad0>/<module>,ok,20.115,20.115,2020-11-18 02:11:37,,0098bf7245f6,collab,Linux,#1 SMP Thu Jul 23 08:00:38 PDT 2020\n",
      "# csv,<ipython-input-71-e110dd3da27e>/<module>,ok,89.069,89.069,2020-11-18 02:32:49,,0098bf7245f6,collab,Linux,#1 SMP Thu Jul 23 08:00:38 PDT 2020\n",
      "# csv,<ipython-input-72-977da1b6c1f8>/<module>,ok,8.675,8.675,2020-11-18 02:34:19,,0098bf7245f6,collab,Linux,#1 SMP Thu Jul 23 08:00:38 PDT 2020\n",
      "# csv,<ipython-input-76-de51f2afcdc3>/<module>,ok,811.77,811.77,2020-11-18 02:49:02,,0098bf7245f6,collab,Linux,#1 SMP Thu Jul 23 08:00:38 PDT 2020\n",
      "# csv,<ipython-input-78-5721b9e62519>/<module>,ok,305.861,305.861,2020-11-18 03:02:34,,0098bf7245f6,collab,Linux,#1 SMP Thu Jul 23 08:00:38 PDT 2020\n",
      "# csv,<ipython-input-80-e6a06a5d894a>/<module>,ok,255.241,255.241,2020-11-18 03:22:29,,0098bf7245f6,collab,Linux,#1 SMP Thu Jul 23 08:00:38 PDT 2020\n",
      "# csv,<ipython-input-82-3608c6502f55>/<module>,ok,254.887,254.887,2020-11-18 03:26:45,,0098bf7245f6,collab,Linux,#1 SMP Thu Jul 23 08:00:38 PDT 2020\n",
      "\n"
     ]
    }
   ],
   "source": [
    "Benchmark.print()"
   ]
  },
  {
   "cell_type": "markdown",
   "metadata": {
    "id": "fg6k26ll9gEU"
   },
   "source": [
    "### Feature Importance ###"
   ]
  },
  {
   "cell_type": "markdown",
   "metadata": {
    "id": "3kO1i4uUCXg_"
   },
   "source": [
    "#### XGBoost Feature Importance ####"
   ]
  },
  {
   "cell_type": "code",
   "execution_count": 85,
   "metadata": {
    "colab": {
     "base_uri": "https://localhost:8080/",
     "height": 1000
    },
    "id": "flpbk-aYCiPv",
    "outputId": "d9be213d-54d7-49bf-d582-c10eda90dfd0"
   },
   "outputs": [
    {
     "data": {
      "image/png": "[encoded data removed]",
      "text/plain": [
       "<Figure size 864x1296 with 1 Axes>"
      ]
     },
     "metadata": {
      "needs_background": "light",
      "tags": []
     },
     "output_type": "display_data"
    }
   ],
   "source": [
    "%matplotlib inline\n",
    "from xgboost import plot_importance\n",
    "fig, ax = plt.subplots(figsize=(12,18))\n",
    "xgb.plot_importance(xgb_model,max_num_features=50, height=0.8, ax=ax)\n",
    "ax.grid(False)\n",
    "plt.title(\"XGB - Feature Importance\", fontsize=20)\n",
    "plt.show()"
   ]
  },
  {
   "cell_type": "markdown",
   "metadata": {
    "id": "_sNd-Rl_DCt4"
   },
   "source": [
    "#### LightGBM Regressor ####"
   ]
  },
  {
   "cell_type": "code",
   "execution_count": 86,
   "metadata": {
    "colab": {
     "base_uri": "https://localhost:8080/",
     "height": 1000
    },
    "id": "Se0bz0l6DGTP",
    "outputId": "8014fce8-2246-4ebe-bdaf-96bc1cf2a903"
   },
   "outputs": [
    {
     "data": {
      "image/png": "[encoded data removed]",
      "text/plain": [
       "<Figure size 864x1296 with 1 Axes>"
      ]
     },
     "metadata": {
      "needs_background": "light",
      "tags": []
     },
     "output_type": "display_data"
    }
   ],
   "source": [
    "from lightgbm import plot_importance\n",
    "fig, ax = plt.subplots(figsize=(12,18))\n",
    "lgb.plot_importance(lgb_model,max_num_features=50, height=0.8, ax=ax)\n",
    "ax.grid(False)\n",
    "plt.title(\"LGB - Feature Importance\", fontsize=20)\n",
    "plt.show()"
   ]
  },
  {
   "cell_type": "markdown",
   "metadata": {},
   "source": [
    "### Conclusion ###\n",
    "\n",
    "As a project team the intention was to create a template that can be utilized for any ML project. The dataset that was used for this project was challenging in a way that it required a lot of data cleaning, flattening and transformation to get the data into the required format."
   ]
  },
  {
   "cell_type": "markdown",
   "metadata": {},
   "source": [
    "#### Model Pipeline ####\n",
    "\n",
    "In this project, multiple regression and tree based models from scikit learn library were explored with various hyper parameter setting and other methods like the lightGBM. The goal of the model pipeline was to explore and examine data, identify data pre-processing methods, imputation strategies, derive features and try different feature extraction methods was to perform different experiments with different parameter setting and identify the optimized with low RMSE that can be operationalized in Production. The parameters were explored within the boundary of this problem setting using different techniques."
   ]
  },
  {
   "cell_type": "markdown",
   "metadata": {},
   "source": [
    "#### Feature Exploration and Pre-Processing ####\n",
    "\n",
    "As part of this project a few features were engineered and included in the training dataset. The feature importance visualizations that were generated after the model training process indicate that these engineered features were part of the top 30% of high impact features and they contributed reasonably to improving the overall accuracy of the model. During additional experimentation phase, the possibility of including few other potential features that could be derived from the dataset was explored and those additional features were included in the final dataset that was used during model training. Although these features did not contribute largely to reducing the error it gave an opportunity to share ideas and methods to develop these new features. Also during feature exploration phase other imputation strategies were evaluated, attempted to identify more outliers and tried different encoding techniques for categorical variables and ultimately determined that label encoder or ordinal encoder is the best way forward. Also some of the low importance features were excluded and the model was retrained to validate if the same or better RMSE value could be achieved."
   ]
  },
  {
   "cell_type": "markdown",
   "metadata": {},
   "source": [
    "#### Outcome of Experiments ####\n",
    "\n",
    "Multiple modeling techniques were explored as part of this project like Linear regression, gradient boosting algorithms and linear regression regularization techniques. The techniques were explored with basic parameter setting and based on the outcome of those experiments, the hyper parameters were tuned using grid search to obtain the best estimator evaluated on RMSE. Also, during grid search K-Fold cross validation of training data was used and the cross validated results were examined through a results table. The fit_intercept flag played a significant role resulting in an optimal error. As part of the different experimentations that were performed, random forest algorithm was also explored but it suffered performance issues and it seemed like it would require more iterations to converge which is why it was dropped from our results and further exploration. Although random forest was not explored, gradient boosting techniques were part of the experimentations and the best RMSE from XGBoost. The LightGBM regressor was also explored with different parameter settings but it did not produce better RMSE score than XGBoost.\n",
    "\n",
    "In the case of XGBoost, there was improvement to the RMSE score as different tree depths, feature fraction, learning rate, number of children, bagging fraction, sub-sample were explored. There was significant improvement to the error metric when these parameters were adjusted in an intuitive way. Also, linear regression with regularization techniques were explored and although there was some improvement to the error metric compared to the basic linear regression model they did not perform better than the gradient boosting method that was explored. So, based on different explorations and experimentations a reasonably conclusion can be made that gradient boosting technique performed better for the given problem setting and generated the best RMSE score. Based on the evaluation results of XGBoost on the dataset used, the recommendation would be to test the XGBoost model with real time data and the performance of the model can be evaluated in real-time scenario too and additionally, if needed, hyper parameter tuning can be performed on the XGBoost model specifically for the real-time scenario [^9]. The feature engineering process on the dataset helped derive features with additional predictive value and a pipeline was built to reuse the same process in different modeling techniques. Five different models were tested including Linear Regression, XGBoost, Light GBM, Lasso and Ridge."
   ]
  }
 ],
 "metadata": {
  "accelerator": "GPU",
  "colab": {
   "collapsed_sections": [],
   "machine_shape": "hm",
   "name": "project.ipynb",
   "provenance": []
  },
  "kernelspec": {
   "display_name": "Python 3",
   "language": "python",
   "name": "python3"
  },
  "language_info": {
   "codemirror_mode": {
    "name": "ipython",
    "version": 3
   },
   "file_extension": ".py",
   "mimetype": "text/x-python",
   "name": "python",
   "nbconvert_exporter": "python",
   "pygments_lexer": "ipython3",
   "version": "3.7.4"
  }
 },
 "nbformat": 4,
 "nbformat_minor": 1
}
